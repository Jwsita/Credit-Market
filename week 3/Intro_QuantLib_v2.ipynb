{
 "cells": [
  {
   "attachments": {},
   "cell_type": "markdown",
   "metadata": {},
   "source": [
    "# Basic Usage of QuantLib analytics library\n",
    "## More details at: https://quantlib-python-docs.readthedocs.io/en/latest/"
   ]
  },
  {
   "cell_type": "code",
   "execution_count": 1,
   "metadata": {
    "ExecuteTime": {
     "end_time": "2020-09-08T22:40:10.673242Z",
     "start_time": "2020-09-08T22:40:10.280272Z"
    }
   },
   "outputs": [],
   "source": [
    "import QuantLib as ql\n",
    "import numpy as np\n",
    "import pandas as pd\n",
    "import datetime as dt\n",
    "\n",
    "import matplotlib.pyplot as plt\n",
    "%matplotlib inline\n"
   ]
  },
  {
   "attachments": {},
   "cell_type": "markdown",
   "metadata": {},
   "source": [
    "## 1. Objects and Handles\n",
    "### a. Define a quote object and inspect the value."
   ]
  },
  {
   "cell_type": "code",
   "execution_count": 2,
   "metadata": {
    "ExecuteTime": {
     "end_time": "2020-09-08T22:40:10.691095Z",
     "start_time": "2020-09-08T22:40:10.681145Z"
    }
   },
   "outputs": [
    {
     "name": "stdout",
     "output_type": "stream",
     "text": [
      "0.01\n",
      "0.02\n"
     ]
    }
   ],
   "source": [
    "quote = ql.SimpleQuote(.01)\n",
    "print(quote.value())\n",
    "\n",
    "quote.setValue(.02)\n",
    "print(quote.value())"
   ]
  },
  {
   "attachments": {},
   "cell_type": "markdown",
   "metadata": {},
   "source": [
    "### b. Define quoteHandle as a handle/smart pointer to the quote object."
   ]
  },
  {
   "cell_type": "code",
   "execution_count": 3,
   "metadata": {
    "ExecuteTime": {
     "end_time": "2020-09-08T22:40:10.706852Z",
     "start_time": "2020-09-08T22:40:10.701861Z"
    }
   },
   "outputs": [
    {
     "data": {
      "text/plain": [
       "0.02"
      ]
     },
     "execution_count": 3,
     "metadata": {},
     "output_type": "execute_result"
    }
   ],
   "source": [
    "quoteHandle = ql.QuoteHandle(quote)\n",
    "quoteHandle.value()"
   ]
  },
  {
   "attachments": {},
   "cell_type": "markdown",
   "metadata": {},
   "source": [
    "### c. When the quote object is changed, the quoteHandle changes value as well."
   ]
  },
  {
   "cell_type": "code",
   "execution_count": 4,
   "metadata": {
    "ExecuteTime": {
     "end_time": "2020-09-08T22:40:10.714410Z",
     "start_time": "2020-09-08T22:40:10.708750Z"
    }
   },
   "outputs": [
    {
     "data": {
      "text/plain": [
       "0.02"
      ]
     },
     "execution_count": 4,
     "metadata": {},
     "output_type": "execute_result"
    }
   ],
   "source": [
    "quote = 0.05\n",
    "quoteHandle.value()"
   ]
  },
  {
   "attachments": {},
   "cell_type": "markdown",
   "metadata": {},
   "source": [
    "### d. Calendars and day-count conventions"
   ]
  },
  {
   "cell_type": "code",
   "execution_count": 5,
   "metadata": {},
   "outputs": [
    {
     "name": "stdout",
     "output_type": "stream",
     "text": [
      "todays_date = May 2nd, 2023\n",
      "test_date = July 31st, 2023\n",
      "holiday_list = [Date(29,5,2023), Date(19,6,2023), Date(4,7,2023)]\n",
      "day_count = Actual/360 day counter\n",
      "Year Fraction [ from May 2nd, 2023 to July 31st, 2023 ] = 0.25\n"
     ]
    }
   ],
   "source": [
    "# dates\n",
    "todays_date = ql.Date.todaysDate()\n",
    "test_date = todays_date + 90\n",
    "print('todays_date =', todays_date)\n",
    "print('test_date =', test_date)\n",
    "\n",
    "\n",
    "# calendars\n",
    "calendar = ql.UnitedStates(ql.UnitedStates.GovernmentBond)\n",
    "holiday_list = list(calendar.holidayList(todays_date, test_date))\n",
    "print('holiday_list =', holiday_list)\n",
    "\n",
    "\n",
    "# day count conventions\n",
    "day_count = ql.Actual360()\n",
    "print('day_count =', day_count)\n",
    "\n",
    "# year fractions\n",
    "test_year_fraction = day_count.yearFraction(todays_date, test_date)\n",
    "print('Year Fraction [ from', todays_date, 'to', test_date,'] =', test_year_fraction)"
   ]
  },
  {
   "attachments": {},
   "cell_type": "markdown",
   "metadata": {},
   "source": [
    "## 2. Cashflow Schedules\n",
    "### a. Construct a semi-annual fixed rate cashflow schedule object."
   ]
  },
  {
   "cell_type": "code",
   "execution_count": 6,
   "metadata": {},
   "outputs": [],
   "source": [
    "issue_date = ql.Date(17, 12, 2022)\n",
    "maturity_date = ql.Date(17, 12, 2027)\n",
    "coupon_freq = ql.Semiannual\n",
    "coupon_term = ql.Period(coupon_freq)\n",
    "calendar = ql.UnitedStates(ql.UnitedStates.GovernmentBond)\n",
    "day_count_conv = ql.Unadjusted\n",
    "date_generation = ql.DateGeneration.Backward\n",
    "month_end = True\n",
    "schedule = ql.Schedule(issue_date,\n",
    "                       maturity_date,\n",
    "                       coupon_term,\n",
    "                       calendar,\n",
    "                       day_count_conv,\n",
    "                       day_count_conv,\n",
    "                       date_generation,\n",
    "                       month_end)"
   ]
  },
  {
   "attachments": {},
   "cell_type": "markdown",
   "metadata": {},
   "source": [
    "### b. Inspect the cashflow schedule\n",
    "- Use list() to get a list of all the dates in Schedule, and len() to get number of dates\n",
    "- Use [] for random access\n",
    "- use startDate(), endDate()"
   ]
  },
  {
   "cell_type": "code",
   "execution_count": 7,
   "metadata": {
    "ExecuteTime": {
     "end_time": "2020-09-08T22:40:10.746174Z",
     "start_time": "2020-09-08T22:40:10.736892Z"
    },
    "tags": []
   },
   "outputs": [
    {
     "name": "stdout",
     "output_type": "stream",
     "text": [
      "All dates:  [Date(17,12,2022), Date(17,6,2023), Date(17,12,2023), Date(17,6,2024), Date(17,12,2024), Date(17,6,2025), Date(17,12,2025), Date(17,6,2026), Date(17,12,2026), Date(17,6,2027), Date(17,12,2027)]\n",
      "Length:  11\n",
      "The 3rd coupon date:  June 17th, 2024\n",
      "Start Date:  December 17th, 2022\n",
      "End Date:  December 17th, 2027\n"
     ]
    }
   ],
   "source": [
    "print(\"All dates: \", list(schedule))\n",
    "print(\"Length: \", len(schedule))\n",
    "print(\"The 3rd coupon date: \", schedule[3])  # random access\n",
    "print(\"Start Date: \", schedule.startDate())\n",
    "print(\"End Date: \", schedule.endDate())"
   ]
  },
  {
   "attachments": {},
   "cell_type": "markdown",
   "metadata": {},
   "source": [
    "## 3. Discount Curve / Yield Curve Term Structure\n",
    "### a. Constructing a Flat Yield Curve"
   ]
  },
  {
   "cell_type": "code",
   "execution_count": 8,
   "metadata": {
    "ExecuteTime": {
     "end_time": "2020-09-08T22:40:10.752550Z",
     "start_time": "2020-09-08T22:40:10.748534Z"
    }
   },
   "outputs": [],
   "source": [
    "# Set the static valuation date\n",
    "calc_date = ql.Date(14, 4, 2023)\n",
    "ql.Settings.instance().evaluationDate = calc_date\n",
    "\n",
    "# using 5% flat interest rate for testing\n",
    "flat_rate = ql.SimpleQuote(0.05)\n",
    "rate_handle = ql.QuoteHandle(flat_rate)\n",
    "day_count = ql.Actual360()\n",
    "calendar = ql.UnitedStates(ql.UnitedStates.GovernmentBond)\n",
    "continuous_comp = ql.Continuous # continously compounded rate of 5%\n",
    "flat_yield_curve = ql.FlatForward(calc_date, rate_handle, day_count, continuous_comp)\n",
    "flat_yield_curve_handle = ql.YieldTermStructureHandle(flat_yield_curve)"
   ]
  },
  {
   "attachments": {},
   "cell_type": "markdown",
   "metadata": {},
   "source": [
    "### b. Inspect the discount curve"
   ]
  },
  {
   "cell_type": "code",
   "execution_count": 9,
   "metadata": {
    "ExecuteTime": {
     "end_time": "2020-09-08T22:40:10.770911Z",
     "start_time": "2020-09-08T22:40:10.754832Z"
    },
    "tags": []
   },
   "outputs": [
    {
     "name": "stdout",
     "output_type": "stream",
     "text": [
      "Reference Date = April 14th, 2023\n",
      "Test Date = December 31st, 2023\n",
      "Year Fraction between Reference Date and Test Date :  0.725\n",
      "Discount Factor for Test Date December 31st, 2023 :  0.9643991635522495\n",
      "Manual DF calculation for Test Date December 31st, 2023 :  0.9643991635522495\n",
      "Difference in Discount Factor: 0.0\n"
     ]
    }
   ],
   "source": [
    "ref_date = flat_yield_curve.referenceDate()\n",
    "test_date = ql.Date(31, 12, 2023)\n",
    "\n",
    "# calc year fraction between ref_date and test_date\n",
    "yearFrac = flat_yield_curve.dayCounter().yearFraction(ref_date, test_date)\n",
    "\n",
    "print(\"Reference Date =\", ref_date)\n",
    "print(\"Test Date =\", test_date)\n",
    "print(\"Year Fraction between Reference Date and Test Date : \", yearFrac)\n",
    "print(\"Discount Factor for Test Date\", test_date, \": \", flat_yield_curve.discount(test_date))\n",
    "print(\"Manual DF calculation for Test Date\", test_date, \": \", np.exp(-flat_rate.value() * yearFrac))\n",
    "print(\"Difference in Discount Factor:\", flat_yield_curve.discount(test_date) - np.exp(-flat_rate.value() * yearFrac))\n",
    "\n"
   ]
  },
  {
   "attachments": {},
   "cell_type": "markdown",
   "metadata": {},
   "source": [
    "## 4. Fixed Rate Bonds\n",
    "### a. Constructing a fixed rate bond object"
   ]
  },
  {
   "cell_type": "code",
   "execution_count": 10,
   "metadata": {
    "ExecuteTime": {
     "end_time": "2020-09-08T22:40:10.778286Z",
     "start_time": "2020-09-08T22:40:10.773359Z"
    }
   },
   "outputs": [],
   "source": [
    "coupon_rate = 0.04\n",
    "day_count = ql.Thirty360(ql.Thirty360.USA)\n",
    "coupons = [coupon_rate]\n",
    "payment_convention = ql.Unadjusted\n",
    "\n",
    "# Construct the FixedRateBond\n",
    "settlement_days = 1\n",
    "face_value = 100\n",
    "fixed_rate_bond = ql.FixedRateBond(\n",
    "    settlement_days,\n",
    "    face_value,\n",
    "    schedule,\n",
    "    coupons,\n",
    "    day_count,\n",
    "    payment_convention)"
   ]
  },
  {
   "attachments": {},
   "cell_type": "markdown",
   "metadata": {},
   "source": [
    "### b. Investigate the bond cash-flows"
   ]
  },
  {
   "cell_type": "code",
   "execution_count": 11,
   "metadata": {
    "ExecuteTime": {
     "end_time": "2020-09-08T22:40:10.792630Z",
     "start_time": "2020-09-08T22:40:10.780398Z"
    },
    "tags": []
   },
   "outputs": [
    {
     "name": "stdout",
     "output_type": "stream",
     "text": [
      "           CashFlowDate  CashFlowAmount\n",
      "0       June 17th, 2023             2.0\n",
      "1   December 17th, 2023             2.0\n",
      "2       June 17th, 2024             2.0\n",
      "3   December 17th, 2024             2.0\n",
      "4       June 17th, 2025             2.0\n",
      "5   December 17th, 2025             2.0\n",
      "6       June 17th, 2026             2.0\n",
      "7   December 17th, 2026             2.0\n",
      "8       June 17th, 2027             2.0\n",
      "9   December 17th, 2027             2.0\n",
      "10  December 17th, 2027           100.0\n"
     ]
    }
   ],
   "source": [
    "x = [(cf.date(), cf.amount()) for cf in fixed_rate_bond.cashflows()]\n",
    "cf_date, cf_amount = zip(*x)\n",
    "cf_frame = pd.DataFrame(data={'CashFlowDate': cf_date, 'CashFlowAmount': cf_amount})\n",
    "print(cf_frame)"
   ]
  },
  {
   "attachments": {},
   "cell_type": "markdown",
   "metadata": {},
   "source": [
    "## 5. Bond Present Value Calculation (no credit risk)\n",
    "### a. Direct function call using risk-free bond pricing engine"
   ]
  },
  {
   "cell_type": "code",
   "execution_count": 12,
   "metadata": {
    "ExecuteTime": {
     "end_time": "2020-09-08T22:40:10.802696Z",
     "start_time": "2020-09-08T22:40:10.795608Z"
    }
   },
   "outputs": [
    {
     "data": {
      "text/plain": [
       "96.61211292221057"
      ]
     },
     "execution_count": 12,
     "metadata": {},
     "output_type": "execute_result"
    }
   ],
   "source": [
    "bond_engine = ql.DiscountingBondEngine(flat_yield_curve_handle)\n",
    "fixed_rate_bond.setPricingEngine(bond_engine)\n",
    "pv_engine = fixed_rate_bond.NPV()\n",
    "pv_engine"
   ]
  },
  {
   "attachments": {},
   "cell_type": "markdown",
   "metadata": {},
   "source": [
    "### b. Manual Calculation to verify PV"
   ]
  },
  {
   "cell_type": "code",
   "execution_count": 13,
   "metadata": {
    "ExecuteTime": {
     "end_time": "2020-09-08T22:40:10.829120Z",
     "start_time": "2020-09-08T22:40:10.804649Z"
    },
    "tags": []
   },
   "outputs": [
    {
     "data": {
      "text/html": [
       "<div>\n",
       "<style scoped>\n",
       "    .dataframe tbody tr th:only-of-type {\n",
       "        vertical-align: middle;\n",
       "    }\n",
       "\n",
       "    .dataframe tbody tr th {\n",
       "        vertical-align: top;\n",
       "    }\n",
       "\n",
       "    .dataframe thead th {\n",
       "        text-align: right;\n",
       "    }\n",
       "</style>\n",
       "<table border=\"1\" class=\"dataframe\">\n",
       "  <thead>\n",
       "    <tr style=\"text-align: right;\">\n",
       "      <th></th>\n",
       "      <th>CashFlowDate</th>\n",
       "      <th>CashFlowAmount</th>\n",
       "      <th>YearFrac</th>\n",
       "      <th>DiscountFactor</th>\n",
       "      <th>NPV</th>\n",
       "    </tr>\n",
       "  </thead>\n",
       "  <tbody>\n",
       "    <tr>\n",
       "      <th>0</th>\n",
       "      <td>June 17th, 2023</td>\n",
       "      <td>2.0</td>\n",
       "      <td>0.177778</td>\n",
       "      <td>0.991151</td>\n",
       "      <td>1.982301</td>\n",
       "    </tr>\n",
       "    <tr>\n",
       "      <th>1</th>\n",
       "      <td>December 17th, 2023</td>\n",
       "      <td>2.0</td>\n",
       "      <td>0.686111</td>\n",
       "      <td>0.966276</td>\n",
       "      <td>1.932552</td>\n",
       "    </tr>\n",
       "    <tr>\n",
       "      <th>2</th>\n",
       "      <td>June 17th, 2024</td>\n",
       "      <td>2.0</td>\n",
       "      <td>1.194444</td>\n",
       "      <td>0.942026</td>\n",
       "      <td>1.884052</td>\n",
       "    </tr>\n",
       "    <tr>\n",
       "      <th>3</th>\n",
       "      <td>December 17th, 2024</td>\n",
       "      <td>2.0</td>\n",
       "      <td>1.702778</td>\n",
       "      <td>0.918385</td>\n",
       "      <td>1.836769</td>\n",
       "    </tr>\n",
       "    <tr>\n",
       "      <th>4</th>\n",
       "      <td>June 17th, 2025</td>\n",
       "      <td>2.0</td>\n",
       "      <td>2.208333</td>\n",
       "      <td>0.895461</td>\n",
       "      <td>1.790922</td>\n",
       "    </tr>\n",
       "    <tr>\n",
       "      <th>5</th>\n",
       "      <td>December 17th, 2025</td>\n",
       "      <td>2.0</td>\n",
       "      <td>2.716667</td>\n",
       "      <td>0.872988</td>\n",
       "      <td>1.745976</td>\n",
       "    </tr>\n",
       "    <tr>\n",
       "      <th>6</th>\n",
       "      <td>June 17th, 2026</td>\n",
       "      <td>2.0</td>\n",
       "      <td>3.222222</td>\n",
       "      <td>0.851197</td>\n",
       "      <td>1.702395</td>\n",
       "    </tr>\n",
       "    <tr>\n",
       "      <th>7</th>\n",
       "      <td>December 17th, 2026</td>\n",
       "      <td>2.0</td>\n",
       "      <td>3.730556</td>\n",
       "      <td>0.829836</td>\n",
       "      <td>1.659671</td>\n",
       "    </tr>\n",
       "    <tr>\n",
       "      <th>8</th>\n",
       "      <td>June 17th, 2027</td>\n",
       "      <td>2.0</td>\n",
       "      <td>4.236111</td>\n",
       "      <td>0.809122</td>\n",
       "      <td>1.618244</td>\n",
       "    </tr>\n",
       "    <tr>\n",
       "      <th>9</th>\n",
       "      <td>December 17th, 2027</td>\n",
       "      <td>2.0</td>\n",
       "      <td>4.744444</td>\n",
       "      <td>0.788816</td>\n",
       "      <td>1.577632</td>\n",
       "    </tr>\n",
       "    <tr>\n",
       "      <th>10</th>\n",
       "      <td>December 17th, 2027</td>\n",
       "      <td>100.0</td>\n",
       "      <td>4.744444</td>\n",
       "      <td>0.788816</td>\n",
       "      <td>78.881598</td>\n",
       "    </tr>\n",
       "  </tbody>\n",
       "</table>\n",
       "</div>"
      ],
      "text/plain": [
       "           CashFlowDate  CashFlowAmount  YearFrac  DiscountFactor        NPV\n",
       "0       June 17th, 2023             2.0  0.177778        0.991151   1.982301\n",
       "1   December 17th, 2023             2.0  0.686111        0.966276   1.932552\n",
       "2       June 17th, 2024             2.0  1.194444        0.942026   1.884052\n",
       "3   December 17th, 2024             2.0  1.702778        0.918385   1.836769\n",
       "4       June 17th, 2025             2.0  2.208333        0.895461   1.790922\n",
       "5   December 17th, 2025             2.0  2.716667        0.872988   1.745976\n",
       "6       June 17th, 2026             2.0  3.222222        0.851197   1.702395\n",
       "7   December 17th, 2026             2.0  3.730556        0.829836   1.659671\n",
       "8       June 17th, 2027             2.0  4.236111        0.809122   1.618244\n",
       "9   December 17th, 2027             2.0  4.744444        0.788816   1.577632\n",
       "10  December 17th, 2027           100.0  4.744444        0.788816  78.881598"
      ]
     },
     "execution_count": 13,
     "metadata": {},
     "output_type": "execute_result"
    }
   ],
   "source": [
    "calc_frame = cf_frame\n",
    "discount_yearfrac = np.zeros((len(calc_frame,)))\n",
    "discount_factor = np.zeros((len(calc_frame,)))\n",
    "\n",
    "i = 0\n",
    "for cf_date in calc_frame['CashFlowDate']:\n",
    "    discount_yearfrac[i] = flat_yield_curve.dayCounter().yearFraction(flat_yield_curve.referenceDate(), cf_date)\n",
    "    discount_factor[i] = flat_yield_curve.discount(cf_date)\n",
    "    i += 1\n",
    "\n",
    "calc_frame['YearFrac'] = discount_yearfrac\n",
    "calc_frame['DiscountFactor'] = discount_factor\n",
    "calc_frame['NPV'] = calc_frame['CashFlowAmount'] * calc_frame['DiscountFactor']\n",
    "\n",
    "calc_frame"
   ]
  },
  {
   "cell_type": "code",
   "execution_count": 14,
   "metadata": {
    "ExecuteTime": {
     "end_time": "2020-09-08T22:40:10.836542Z",
     "start_time": "2020-09-08T22:40:10.831179Z"
    },
    "tags": []
   },
   "outputs": [
    {
     "name": "stdout",
     "output_type": "stream",
     "text": [
      "NPV_Engine =  96.61211292221057\n",
      "NPV_Manual =  96.61211292221057\n",
      "NPV diff =  0.0\n"
     ]
    }
   ],
   "source": [
    "pv_manual = calc_frame['NPV'].sum()\n",
    "print('NPV_Engine = ', pv_engine)\n",
    "print('NPV_Manual = ', pv_manual)\n",
    "print('NPV diff = ', pv_manual - pv_engine)"
   ]
  },
  {
   "attachments": {},
   "cell_type": "markdown",
   "metadata": {},
   "source": [
    "### c. Bond Clean vs Dirty Prices"
   ]
  },
  {
   "cell_type": "code",
   "execution_count": 15,
   "metadata": {},
   "outputs": [
    {
     "name": "stdout",
     "output_type": "stream",
     "text": [
      "Bond Notional =  100.0\n",
      "Settle Date =  April 17th, 2023\n",
      "Discount Factor to Settle Date =  0.9996\n",
      "Bond NPV (Calc Date) =  96.6121\n",
      "Bond NPV Adjusted to Settle Date =  96.6524\n",
      "Bond Dirty Price =  96.6524\n",
      "Bond Clean Price =  95.319\n",
      "Bond Accrued =  1.3333\n"
     ]
    }
   ],
   "source": [
    "print('Bond Notional = ', fixed_rate_bond.notional())\n",
    "print('Settle Date = ', fixed_rate_bond.settlementDate())\n",
    "print('Discount Factor to Settle Date = ', round(flat_yield_curve_handle.discount(fixed_rate_bond.settlementDate()), 4))\n",
    "print('Bond NPV (Calc Date) = ', round(fixed_rate_bond.NPV(), 4))\n",
    "print('Bond NPV Adjusted to Settle Date = ', round(fixed_rate_bond.NPV() / flat_yield_curve_handle.discount(fixed_rate_bond.settlementDate()), 4))\n",
    "print('Bond Dirty Price = ', round(fixed_rate_bond.dirtyPrice(), 4))\n",
    "print('Bond Clean Price = ', round(fixed_rate_bond.cleanPrice(), 4))\n",
    "print('Bond Accrued = ', round(fixed_rate_bond.accruedAmount(), 4))\n"
   ]
  },
  {
   "attachments": {},
   "cell_type": "markdown",
   "metadata": {},
   "source": [
    "## 6. Market Data Scenarios\n",
    "### a. Apply +/-1bp parallel shift scenarios in interest rates curve and compute scenario prices"
   ]
  },
  {
   "cell_type": "code",
   "execution_count": 16,
   "metadata": {
    "ExecuteTime": {
     "end_time": "2020-09-08T22:40:10.940966Z",
     "start_time": "2020-09-08T22:39:56.714Z"
    },
    "tags": []
   },
   "outputs": [
    {
     "name": "stdout",
     "output_type": "stream",
     "text": [
      "Price (base case):  95.319\n",
      "Price in +1bps scenario::  95.2775\n",
      "Price diff in +1bps scenario::  -0.041529\n",
      "Price for -1bps scenario: 95.3606\n",
      "Price diff in -1bps scenario::  0.041548\n"
     ]
    }
   ],
   "source": [
    "# start with interest_rate_bump = 0\n",
    "interest_rate_bump = ql.SimpleQuote(0.0)\n",
    "flat_yield_curve_bumped = ql.ZeroSpreadedTermStructure(flat_yield_curve_handle, ql.QuoteHandle(interest_rate_bump))\n",
    "\n",
    "bond_engine = ql.DiscountingBondEngine(ql.YieldTermStructureHandle(flat_yield_curve_bumped))\n",
    "fixed_rate_bond.setPricingEngine(bond_engine)\n",
    "\n",
    "price_base = fixed_rate_bond.cleanPrice()\n",
    "\n",
    "# Original price (zero interest rate bump)\n",
    "print(\"Price (base case): \", round(price_base, 4))\n",
    "\n",
    "# Bump interest rate by +1bps (parallel shift)\n",
    "interest_rate_bump.setValue(0.0001)\n",
    "price_up_1bp = fixed_rate_bond.cleanPrice()\n",
    "print(\"Price in +1bps scenario:: \", round(price_up_1bp, 4))\n",
    "print(\"Price diff in +1bps scenario:: \", round(price_up_1bp - price_base, 6))\n",
    "\n",
    "# Bump interest rate by -1bps (parallel shift)\n",
    "interest_rate_bump.setValue(-0.0001)\n",
    "price_down_1bp = fixed_rate_bond.cleanPrice()\n",
    "print(\"Price for -1bps scenario:\", round(price_down_1bp, 4))\n",
    "print(\"Price diff in -1bps scenario:: \", round(price_down_1bp - price_base, 6))\n",
    "\n",
    " # Remove interest rate bump\n",
    "interest_rate_bump.setValue(0)\n",
    "\n"
   ]
  },
  {
   "attachments": {},
   "cell_type": "markdown",
   "metadata": {},
   "source": [
    " ### b. Compute scenario DV01, duration and convexity"
   ]
  },
  {
   "cell_type": "code",
   "execution_count": 17,
   "metadata": {},
   "outputs": [
    {
     "name": "stdout",
     "output_type": "stream",
     "text": [
      "DV01:  4.1548\n",
      "Duration:  4.2987\n",
      "Convexity:  19.714\n"
     ]
    }
   ],
   "source": [
    "# Compute scenario delta/gamma sensitivities\n",
    "dv01 = round((price_down_1bp - price_base) * 1e4 / 100, 4)\n",
    "duration = round(dv01 / fixed_rate_bond.dirtyPrice() * 100, 4)\n",
    "gamma_1bp = (price_down_1bp - 2*price_base + price_up_1bp) * 1e8 / 100\n",
    "convexity = round(gamma_1bp / fixed_rate_bond.dirtyPrice() * 100, 4)\n",
    "\n",
    "print(\"DV01: \", dv01)\n",
    "print(\"Duration: \", duration)\n",
    "print(\"Convexity: \", convexity)\n",
    "\n",
    "\n"
   ]
  },
  {
   "attachments": {},
   "cell_type": "markdown",
   "metadata": {},
   "source": [
    "## 7. Yield to Price conversions\n"
   ]
  },
  {
   "cell_type": "code",
   "execution_count": 18,
   "metadata": {},
   "outputs": [
    {
     "name": "stdout",
     "output_type": "stream",
     "text": [
      "Bond PV for 5.0 pct yield: 96.6121\n",
      "Bond PV for 6.0 pct yield: 92.546\n"
     ]
    }
   ],
   "source": [
    "# Use original interest rate yield of 5%\n",
    "# flat_rate.setValue(0.05)\n",
    "print('Bond PV for', flat_rate.value()*100, 'pct yield:', round(fixed_rate_bond.NPV(), 4))\n",
    "\n",
    "\n",
    "# Change interest rate yield to 6% and recompute bond PV\n",
    "flat_rate.setValue(0.06)\n",
    "print('Bond PV for', flat_rate.value()*100, 'pct yield:', round(fixed_rate_bond.NPV(), 4))\n",
    "\n",
    "# Set interest rate yield back to 5%\n",
    "flat_rate.setValue(0.05)"
   ]
  },
  {
   "attachments": {},
   "cell_type": "markdown",
   "metadata": {},
   "source": [
    "## 8. Price to Yield conversions\n"
   ]
  },
  {
   "cell_type": "code",
   "execution_count": 19,
   "metadata": {},
   "outputs": [
    {
     "name": "stdout",
     "output_type": "stream",
     "text": [
      "day_counter = 30/360 (US) day counter\n",
      "coupon_freq = 2\n",
      "calc_date = April 14th, 2023\n",
      "settle_date = April 17th, 2023\n",
      "implied_yield = 5.2197\n"
     ]
    }
   ],
   "source": [
    "# bond_market_price = fixed_rate_bond.cleanPrice()\n",
    "bond_market_price = 95.00   # Clean market price\n",
    "\n",
    "compounding = ql.Compounded\n",
    "# compounding = ql.Continuous\n",
    "\n",
    "settle_date = fixed_rate_bond.settlementDate(calc_date)\n",
    "day_counter = fixed_rate_bond.dayCounter()\n",
    "\n",
    "print('day_counter =', day_counter)\n",
    "print('coupon_freq =', coupon_freq)\n",
    "print('calc_date =', calc_date)\n",
    "print('settle_date =', settle_date)\n",
    "\n",
    "\n",
    "implied_yield = fixed_rate_bond.bondYield(bond_market_price, day_counter, compounding, coupon_freq, settle_date) * 100\n",
    "print('implied_yield =', round(implied_yield, 4))"
   ]
  },
  {
   "attachments": {},
   "cell_type": "markdown",
   "metadata": {},
   "source": [
    "## 9. Analytical Duration, Convexity and Z-Spread (flat yield model)"
   ]
  },
  {
   "attachments": {},
   "cell_type": "markdown",
   "metadata": {},
   "source": [
    "### a. Compute bond duration, convexity and Z-Spread"
   ]
  },
  {
   "cell_type": "code",
   "execution_count": 36,
   "metadata": {},
   "outputs": [
    {
     "name": "stdout",
     "output_type": "stream",
     "text": [
      "Bond Duration = 4.1170520484084046\n",
      "Bond Convexity = 20.1090338964561\n",
      "Bond Z-Spread bps = 7.89\n"
     ]
    }
   ],
   "source": [
    "# flat_bond_yield (used as an input to compute duration and convexity)\n",
    "flat_bond_yield = 5.5 # in pct\n",
    "flat_bond_yield_rate = ql.InterestRate(flat_bond_yield/100, day_count, compounding, coupon_freq)\n",
    "\n",
    "# Calc Duration and Convexity\n",
    "bond_duration = ql.BondFunctions.duration(fixed_rate_bond, flat_bond_yield_rate)\n",
    "bond_convexity = ql.BondFunctions.convexity(fixed_rate_bond, flat_bond_yield_rate)\n",
    "\n",
    "# Calc z-spread for a given market price\n",
    "bond_market_price = 95.3194     # Clean market price, implies zero Z-Spread!\n",
    "bond_market_price = 95          # Test market price, implies Z-Spread > 0\n",
    "bond_zspread = ql.BondFunctions.zSpread(fixed_rate_bond, bond_market_price, flat_yield_curve, day_count, compounding, coupon_freq, settle_date)\n",
    "\n",
    "# Print results\n",
    "print('Bond Duration =', bond_duration)\n",
    "print('Bond Convexity =', bond_convexity)\n",
    "print('Bond Z-Spread bps =', round(bond_zspread * 10000, 2))\n"
   ]
  },
  {
   "attachments": {},
   "cell_type": "markdown",
   "metadata": {},
   "source": [
    "### b. Validate Z-Spread"
   ]
  },
  {
   "cell_type": "code",
   "execution_count": 21,
   "metadata": {},
   "outputs": [],
   "source": [
    "def calc_clean_price_with_zspread(fixed_rate_bond, yield_curve_handle, zspread):\n",
    "    zspread_quote = ql.SimpleQuote(zspread)\n",
    "    zspread_quote_handle = ql.QuoteHandle(zspread_quote)\n",
    "    yield_curve_bumped = ql.ZeroSpreadedTermStructure(yield_curve_handle, zspread_quote_handle, ql.Compounded, ql.Semiannual)\n",
    "    yield_curve_bumped_handle = ql.YieldTermStructureHandle(yield_curve_bumped)\n",
    "    \n",
    "    # Set Valuation engine\n",
    "    bond_engine = ql.DiscountingBondEngine(yield_curve_bumped_handle)\n",
    "    fixed_rate_bond.setPricingEngine(bond_engine)\n",
    "    bond_clean_price = fixed_rate_bond.cleanPrice()\n",
    "    return bond_clean_price\n"
   ]
  },
  {
   "cell_type": "code",
   "execution_count": 22,
   "metadata": {},
   "outputs": [
    {
     "name": "stdout",
     "output_type": "stream",
     "text": [
      "Bond Z-Spread bps = 7.89\n",
      "bond_market_price = 95\n",
      "bond_zspread_price = 95.00000000000031\n",
      "bond price diff = 3.126388037344441e-13\n"
     ]
    }
   ],
   "source": [
    "# Compare the original and the z-spread computed clean prices\n",
    "bond_zspread_price = calc_clean_price_with_zspread(fixed_rate_bond, flat_yield_curve_handle, bond_zspread)\n",
    "\n",
    "print('Bond Z-Spread bps =', round(bond_zspread * 10000, 2))\n",
    "print('bond_market_price =', bond_market_price)\n",
    "print('bond_zspread_price =', bond_zspread_price)\n",
    "print('bond price diff =', bond_zspread_price - bond_market_price)"
   ]
  },
  {
   "attachments": {},
   "cell_type": "markdown",
   "metadata": {},
   "source": [
    "## 10. Treasury Yield Curve Calibration (via Bootstrapping)\n",
    "### a. Calibrate treasury flat yield curve (simple case of one calibration instrument)"
   ]
  },
  {
   "cell_type": "code",
   "execution_count": 23,
   "metadata": {},
   "outputs": [],
   "source": [
    "# clean price quote\n",
    "tsy_clean_price_quote = 96.0\n",
    "tsy_clean_price_handle = ql.QuoteHandle(ql.SimpleQuote(tsy_clean_price_quote))\n",
    "\n",
    "# Create BondHelper object\n",
    "bond_helper = ql.BondHelper(\n",
    "    tsy_clean_price_handle,\n",
    "    fixed_rate_bond)\n",
    "\n",
    "bond_helper_list = [bond_helper]\n",
    "        \n",
    "tsy_flat_yield_curve = ql.PiecewiseLogCubicDiscount(calc_date, bond_helper_list, day_count)\n",
    "tsy_flat_yield_curve.enableExtrapolation()\n",
    "    "
   ]
  },
  {
   "attachments": {},
   "cell_type": "markdown",
   "metadata": {},
   "source": [
    "### b. Display the calibrated Treasury discount curve dataframe"
   ]
  },
  {
   "cell_type": "code",
   "execution_count": 24,
   "metadata": {},
   "outputs": [],
   "source": [
    "def get_yield_curve_details_df(yield_curve, curve_dates=None):\n",
    "    \n",
    "    if(curve_dates == None):\n",
    "        curve_dates = yield_curve.dates()\n",
    "\n",
    "    dates = [d.to_date() for d in curve_dates]\n",
    "    discounts = [round(yield_curve.discount(d), 3) for d in curve_dates]\n",
    "    yearfracs = [round(yield_curve.timeFromReference(d), 3) for d in curve_dates]\n",
    "    zeroRates = [round(yield_curve.zeroRate(d, yield_curve.dayCounter(), ql.Compounded).rate() * 100, 3) for d in curve_dates]\n",
    "\n",
    "    yield_curve_details_df = pd.DataFrame(data={'Date': dates,\n",
    "                             'YearFrac': yearfracs,\n",
    "                             'DiscountFactor': discounts,\n",
    "                             'ZeroRate': zeroRates})                             \n",
    "    return yield_curve_details_df"
   ]
  },
  {
   "cell_type": "code",
   "execution_count": 25,
   "metadata": {},
   "outputs": [
    {
     "name": "stdout",
     "output_type": "stream",
     "text": [
      "         Date  YearFrac  DiscountFactor  ZeroRate\n",
      "0  2023-04-14     0.000           1.000     5.031\n",
      "1  2027-12-17     4.675           0.795     5.031\n",
      "          Date  YearFrac  DiscountFactor  ZeroRate\n",
      "0   2023-04-14       0.0           1.000     5.031\n",
      "1   2025-04-14       2.0           0.906     5.031\n",
      "2   2027-04-14       4.0           0.822     5.031\n",
      "3   2029-04-14       6.0           0.745     5.031\n",
      "4   2031-04-14       8.0           0.675     5.031\n",
      "5   2033-04-14      10.0           0.612     5.031\n",
      "6   2035-04-14      12.0           0.555     5.031\n",
      "7   2037-04-14      14.0           0.503     5.031\n",
      "8   2039-04-14      16.0           0.456     5.031\n",
      "9   2041-04-14      18.0           0.413     5.031\n",
      "10  2043-04-14      20.0           0.375     5.031\n",
      "11  2045-04-14      22.0           0.340     5.031\n",
      "12  2047-04-14      24.0           0.308     5.031\n",
      "13  2049-04-14      26.0           0.279     5.031\n",
      "14  2051-04-14      28.0           0.253     5.031\n"
     ]
    }
   ],
   "source": [
    "# Display Treasury yield curve details\n",
    "tsy_flat_yield_curve_simple_df = get_yield_curve_details_df(tsy_flat_yield_curve)                  # using calibration grid\n",
    "print(tsy_flat_yield_curve_simple_df)\n",
    "\n",
    "grid_dates = [tsy_flat_yield_curve.referenceDate() + ql.Period(y, ql.Years) for y in list(range(0,30,2))]\n",
    "tsy_flat_yield_curve_details_df = get_yield_curve_details_df(tsy_flat_yield_curve, grid_dates)    # using external grid\n",
    "print(tsy_flat_yield_curve_details_df)\n"
   ]
  },
  {
   "attachments": {},
   "cell_type": "markdown",
   "metadata": {},
   "source": [
    "### c. Plot the calibrated Treasury Zero Rates and Discount Factors curves"
   ]
  },
  {
   "cell_type": "code",
   "execution_count": 26,
   "metadata": {},
   "outputs": [
    {
     "data": {
      "text/plain": [
       "Text(0.5, 0, 'Date')"
      ]
     },
     "execution_count": 26,
     "metadata": {},
     "output_type": "execute_result"
    },
    {
     "data": {
      "image/png": "[encoded data removed]",
      "text/plain": [
       "<Figure size 1200x400 with 1 Axes>"
      ]
     },
     "metadata": {},
     "output_type": "display_data"
    },
    {
     "data": {
      "image/png": "[encoded data removed]",
      "text/plain": [
       "<Figure size 1200x400 with 1 Axes>"
      ]
     },
     "metadata": {},
     "output_type": "display_data"
    }
   ],
   "source": [
    "plt = tsy_flat_yield_curve_details_df.plot(x='Date', y='ZeroRate', grid=True, style='*-', title='Treasury Flat Curve: Zero Rates', figsize=(12,4))\n",
    "plt.set_ylabel('Zero Rate (%)')\n",
    "plt.set_xlabel('Date')\n",
    "\n",
    "plt = tsy_flat_yield_curve_details_df.plot(x='Date', y='DiscountFactor', grid=True, style='*-', title='Treasury Flat Curve: Discount Factors', figsize=(12,4))\n",
    "plt.set_ylabel('Discount Factors')\n",
    "plt.set_xlabel('Date')"
   ]
  },
  {
   "attachments": {},
   "cell_type": "markdown",
   "metadata": {},
   "source": [
    "## 11. SOFR OIS swap rates and SOFR discount curve calibration + validation\n",
    "\n",
    "### a. SOFR curve calibration (via Bootstrapping)\n",
    "\n",
    "Overnight Index Swap contract is an interest rate swap contract exchanging and overnight index interest rate (e.g. Fed Funds, SOFR, LIBOR) for a fixed interest rate until the contract maturity. The fixed rate is set at a rate agreed upon by both parties. The floating leg portion of the swap is compounded and paid at reset dates. "
   ]
  },
  {
   "cell_type": "code",
   "execution_count": 27,
   "metadata": {},
   "outputs": [
    {
     "name": "stdout",
     "output_type": "stream",
     "text": [
      "April 18th, 2023\n"
     ]
    }
   ],
   "source": [
    "# settle_days\n",
    "settle_days = 2\n",
    "\n",
    "# SOFR OIS swap tenors: 1Y, 2Y, 3Y, 5Y 7Y, 10Y, 20Y and 30Y\n",
    "SOFR_tenors = [ql.Period(y, ql.Years) for y in [1, 2, 3, 5, 7, 10, 20, 30]]\n",
    "               \n",
    "# SOFR OIS swap rates (as of 2023-04-14)\n",
    "SOFR_rates = [4.81, 4.11, 3.73, 3.38, 3.32, 3.26, 3.20, 3.02]\n",
    "\n",
    "SOFR_OIS_swap_helpers = []\n",
    "for (SOFR_tenor, SOFR_rate) in zip(SOFR_tenors, SOFR_rates):\n",
    "    SOFR_OIS_swap_helpers.append(ql.OISRateHelper(settle_days, SOFR_tenor, ql.QuoteHandle(ql.SimpleQuote(SOFR_rate/100)), ql.Sofr()))\n",
    "\n",
    "# Create SOFR yield curve\n",
    "sofr_yield_curve = ql.PiecewiseLinearZero(settle_days, calendar, SOFR_OIS_swap_helpers, ql.Actual360())\n",
    "sofr_yield_curve.enableExtrapolation()\n",
    "sofr_yield_curve_handle = ql.YieldTermStructureHandle(sofr_yield_curve)\n",
    "\n",
    "print(sofr_yield_curve.referenceDate())\n"
   ]
  },
  {
   "attachments": {},
   "cell_type": "markdown",
   "metadata": {},
   "source": [
    "### b. Display the calibrated SOFR discount curve dataframe"
   ]
  },
  {
   "cell_type": "code",
   "execution_count": 28,
   "metadata": {},
   "outputs": [
    {
     "name": "stdout",
     "output_type": "stream",
     "text": [
      "         Date  YearFrac  DiscountFactor  ZeroRate\n",
      "0  2023-04-18     0.000           1.000     4.808\n",
      "1  2024-04-18     1.017           0.953     4.808\n",
      "2  2025-04-21     2.039           0.921     4.094\n",
      "3  2026-04-20     3.050           0.895     3.706\n",
      "4  2028-04-18     5.075           0.846     3.347\n",
      "5  2030-04-18     7.103           0.795     3.291\n",
      "6  2033-04-18    10.147           0.724     3.232\n",
      "7  2043-04-20    20.297           0.530     3.173\n",
      "8  2053-04-18    30.439           0.415     2.931\n",
      "          Date  YearFrac  DiscountFactor  ZeroRate\n",
      "0   2023-04-18     0.000           1.000     4.808\n",
      "1   2025-04-18     2.031           0.922     4.100\n",
      "2   2027-04-18     4.058           0.869     3.527\n",
      "3   2029-04-18     6.089           0.820     3.319\n",
      "4   2031-04-18     8.117           0.770     3.272\n",
      "5   2033-04-18    10.147           0.724     3.232\n",
      "6   2035-04-18    12.175           0.680     3.221\n",
      "7   2037-04-18    14.206           0.638     3.209\n",
      "8   2039-04-18    16.233           0.600     3.197\n",
      "9   2041-04-18    18.264           0.564     3.185\n",
      "10  2043-04-18    20.292           0.530     3.173\n",
      "11  2045-04-18    22.322           0.503     3.125\n",
      "12  2047-04-18    24.350           0.478     3.076\n",
      "13  2049-04-18    26.381           0.455     3.028\n",
      "14  2051-04-18    28.408           0.434     2.979\n"
     ]
    }
   ],
   "source": [
    "# Display SOFR yield curve\n",
    "grid_dates = [sofr_yield_curve.referenceDate() + ql.Period(y, ql.Years) for y in list(range(0,30,2))]\n",
    "\n",
    "\n",
    "sofr_yield_curve_simple_df = get_yield_curve_details_df(sofr_yield_curve)                  # using calibration grid\n",
    "sofr_yield_curve_details_df = get_yield_curve_details_df(sofr_yield_curve, grid_dates)    # using external grid\n",
    "\n",
    "print(sofr_yield_curve_simple_df)\n",
    "print(sofr_yield_curve_details_df)\n"
   ]
  },
  {
   "attachments": {},
   "cell_type": "markdown",
   "metadata": {},
   "source": [
    "### c. Plot the calibrated SOFR Zero Rates and Discount Factors curves"
   ]
  },
  {
   "cell_type": "code",
   "execution_count": 29,
   "metadata": {},
   "outputs": [
    {
     "data": {
      "text/plain": [
       "Text(0.5, 0, 'Date')"
      ]
     },
     "execution_count": 29,
     "metadata": {},
     "output_type": "execute_result"
    },
    {
     "data": {
      "image/png": "[encoded data removed]",
      "text/plain": [
       "<Figure size 1200x400 with 1 Axes>"
      ]
     },
     "metadata": {},
     "output_type": "display_data"
    },
    {
     "data": {
      "image/png": "[encoded data removed]",
      "text/plain": [
       "<Figure size 1200x400 with 1 Axes>"
      ]
     },
     "metadata": {},
     "output_type": "display_data"
    }
   ],
   "source": [
    "plt = sofr_yield_curve_details_df.plot(x='Date', y='ZeroRate', grid=True, style='*-', title='SOFR Curve: Zero Rates', figsize=(12,4))\n",
    "plt.set_ylabel('Zero Rate (%)')\n",
    "plt.set_xlabel('Date')\n",
    "\n",
    "plt = sofr_yield_curve_details_df.plot(x='Date', y='DiscountFactor', grid=True, style='*-', title='SOFR Curve: Discount Factors', figsize=(12,4))\n",
    "plt.set_ylabel('Discount Factors')\n",
    "plt.set_xlabel('Date')"
   ]
  },
  {
   "attachments": {},
   "cell_type": "markdown",
   "metadata": {},
   "source": [
    "### d. Validate SOFR calibration by pricing SOFR swaps"
   ]
  },
  {
   "cell_type": "code",
   "execution_count": 30,
   "metadata": {},
   "outputs": [
    {
     "name": "stdout",
     "output_type": "stream",
     "text": [
      "SOFR Swap valuation: PVs should be close to zero!\n",
      "Swap PV for 1Y tenor / 4.81 coupon : 0.0\n",
      "Swap PV for 2Y tenor / 4.11 coupon : 2.842170943040401e-14\n",
      "Swap PV for 3Y tenor / 3.73 coupon : -4.263256414560601e-14\n",
      "Swap PV for 5Y tenor / 3.38 coupon : -4.033573475226149e-11\n",
      "Swap PV for 7Y tenor / 3.32 coupon : -2.842170943040401e-14\n",
      "Swap PV for 10Y tenor / 3.26 coupon : 7.105427357601002e-15\n",
      "Swap PV for 20Y tenor / 3.2 coupon : -2.1316282072803006e-14\n",
      "Swap PV for 30Y tenor / 3.02 coupon : -6.394884621840902e-14\n"
     ]
    }
   ],
   "source": [
    "# validate SOFR swaps\n",
    "sofr_index = ql.Sofr(sofr_yield_curve_handle)\n",
    "# swap_engine = ql.DiscountingSwapEngine(sofr_yield_curve_handle)\n",
    "\n",
    "print('SOFR Swap valuation: PVs should be close to zero!')\n",
    "\n",
    "for (SOFR_tenor, SOFR_rate) in zip(SOFR_tenors, SOFR_rates):    \n",
    "    start_date = calendar.advance(calc_date, settle_days, ql.Days)\n",
    "    schedule = ql.MakeSchedule(start_date, calendar.advance(start_date, SOFR_tenor), ql.Period('1Y'), calendar=calendar)        \n",
    "    oisSwap = ql.MakeOIS(SOFR_tenor, sofr_index, SOFR_rate/100, nominal=100)\n",
    "    \n",
    "    # oisSwap.setPricingEngine(swap_engine)\n",
    "    print('Swap PV for', SOFR_tenor, 'tenor /', SOFR_rate, 'coupon :', oisSwap.NPV()) \n",
    "    "
   ]
  },
  {
   "attachments": {},
   "cell_type": "markdown",
   "metadata": {},
   "source": [
    "## 12. CDS Hazard Rate calibration + pricing\n",
    "### a. CDS Hazard Rate calibration\n"
   ]
  },
  {
   "cell_type": "code",
   "execution_count": 31,
   "metadata": {},
   "outputs": [
    {
     "name": "stdout",
     "output_type": "stream",
     "text": [
      "         Date  HazardRate  SurvivalProb\n",
      "0  2023-04-14    0.285237      1.000000\n",
      "1  2024-06-20    0.285237      0.996575\n",
      "2  2025-06-20    0.540041      0.991133\n",
      "3  2026-06-22    1.033609      0.980745\n",
      "4  2028-06-20    1.511140      0.951188\n",
      "5  2030-06-20    1.925096      0.914772\n",
      "6  2033-06-20    1.803340      0.865903\n"
     ]
    }
   ],
   "source": [
    "CDS_recovery_rate = 0.4\n",
    "\n",
    "# CDS standard tenors: 1Y, 2Y, 3Y, 5Y 7Y and 10Y\n",
    "CDS_tenors = [ql.Period(y, ql.Years) for y in [1, 2, 3, 5, 7, 10]]\n",
    "              \n",
    "# CDS spreads for IBM as of calc_date = 2023-04-14\n",
    "CDS_spreads = [17.25, 24.09, 35.58, 55.58, 70.51, 79.92]\n",
    "\n",
    "CDS_helpers = [ql.SpreadCdsHelper((CDS_spread / 10000.0), CDS_tenor, settle_days, ql.TARGET(),\n",
    "                                  ql.Quarterly, ql.Following, ql.DateGeneration.TwentiethIMM, ql.Actual360(), CDS_recovery_rate, sofr_yield_curve_handle)\n",
    "               \n",
    "for (CDS_spread, CDS_tenor) in zip(CDS_spreads, CDS_tenors)]\n",
    "\n",
    "# bootstrap hazard_rate_curve\n",
    "hazard_rate_curve = ql.PiecewiseFlatHazardRate(calc_date, CDS_helpers, ql.Actual360())\n",
    "hazard_rate_curve.enableExtrapolation()\n",
    "\n",
    "# Display calibrated hazard rates and survival probabilities\n",
    "hazard_list = [(hr[0].to_date(), hr[1] * 100, hazard_rate_curve.survivalProbability(hr[0])) for hr in hazard_rate_curve.nodes()]\n",
    "grid_dates, hazard_rates, surv_probs = zip(*hazard_list)\n",
    "\n",
    "hazard_rates_df = pd.DataFrame(data={'Date': grid_dates, \n",
    "                                     'HazardRate': hazard_rates,\n",
    "                                     'SurvivalProb': surv_probs})\n",
    "print(hazard_rates_df)\n"
   ]
  },
  {
   "attachments": {},
   "cell_type": "markdown",
   "metadata": {},
   "source": [
    "### b. Plot the calibrated Hazard Rate and Survival Probability curves"
   ]
  },
  {
   "cell_type": "code",
   "execution_count": 32,
   "metadata": {},
   "outputs": [
    {
     "data": {
      "text/plain": [
       "Text(0.5, 0, 'Date')"
      ]
     },
     "execution_count": 32,
     "metadata": {},
     "output_type": "execute_result"
    },
    {
     "data": {
      "image/png": "[encoded data removed]",
      "text/plain": [
       "<Figure size 1200x400 with 1 Axes>"
      ]
     },
     "metadata": {},
     "output_type": "display_data"
    },
    {
     "data": {
      "image/png": "[encoded data removed]",
      "text/plain": [
       "<Figure size 1200x400 with 1 Axes>"
      ]
     },
     "metadata": {},
     "output_type": "display_data"
    }
   ],
   "source": [
    "plt = hazard_rates_df.plot(x='Date', y='HazardRate', grid=True, style='*-', title='IBM Hazard Rates Curve', figsize=(12,4))\n",
    "plt.set_ylabel('Hazard Rate (%)')\n",
    "plt.set_xlabel('Date')\n",
    "\n",
    "plt = hazard_rates_df.plot(x='Date', y='SurvivalProb', grid=True, style='*-', title='IBM Survival Probability Curve', figsize=(12,4))\n",
    "plt.set_ylabel('Survival Probability')\n",
    "plt.set_xlabel('Date')\n"
   ]
  },
  {
   "attachments": {},
   "cell_type": "markdown",
   "metadata": {},
   "source": [
    "### c. CDS valuation"
   ]
  },
  {
   "cell_type": "code",
   "execution_count": 33,
   "metadata": {},
   "outputs": [
    {
     "name": "stdout",
     "output_type": "stream",
     "text": [
      "CDS protection start date: April 14th, 2023\n",
      "CDS fair/par spread: 55.502\n",
      "CDS PV: 2.0855\n",
      "CDS Premium Leg PV: 4.6868\n",
      "CDS Default Leg PV -2.6013\n",
      "Survival Prob. to Maturity: 0.9512\n"
     ]
    }
   ],
   "source": [
    "# CDS specs\n",
    "side = ql.Protection.Seller\n",
    "\n",
    "face_notional = 100\n",
    "\n",
    "contractual_spread = 100 / 10000\n",
    "\n",
    "cds_start_date = ql.Date(14, 4, 2023)\n",
    "cds_maturity_date = ql.Date(20, 6, 2028)\n",
    "\n",
    "# Create CDS schedule\n",
    "cds_schedule = ql.MakeSchedule(cds_start_date, cds_maturity_date, ql.Period('3M'),\n",
    "                            ql.Quarterly, ql.TARGET(), ql.Following, ql.Unadjusted, ql.DateGeneration.TwentiethIMM)\n",
    "\n",
    "# Create CDS object\n",
    "cds_obj = ql.CreditDefaultSwap(side, face_notional, contractual_spread, cds_schedule, ql.Following, ql.Actual360())\n",
    "\n",
    "# Create CDS pricing engine\n",
    "default_prob_curve_handle = ql.DefaultProbabilityTermStructureHandle(hazard_rate_curve)\n",
    "cds_engine = ql.MidPointCdsEngine(default_prob_curve_handle, CDS_recovery_rate, sofr_yield_curve_handle)\n",
    "cds_obj.setPricingEngine(cds_engine)\n",
    "\n",
    "\n",
    "# Print CDS valuation results\n",
    "print('CDS protection start date:', cds_obj.protectionStartDate())\n",
    "print('CDS fair/par spread:', round(cds_obj.fairSpread()*10000, 3))\n",
    "print('CDS PV:', round(cds_obj.NPV(), 4))    \n",
    "print('CDS Premium Leg PV:', round(cds_obj.couponLegNPV(), 4))\n",
    "print('CDS Default Leg PV', round(cds_obj.defaultLegNPV(), 4))\n",
    "print('Survival Prob. to Maturity:', round(hazard_rate_curve.survivalProbability(cds_maturity_date), 4))\n"
   ]
  }
 ],
 "metadata": {
  "jupytext": {
   "formats": "ipynb,py:light"
  },
  "kernelspec": {
   "display_name": "Python 3",
   "language": "python",
   "name": "python3"
  },
  "language_info": {
   "codemirror_mode": {
    "name": "ipython",
    "version": 3
   },
   "file_extension": ".py",
   "mimetype": "text/x-python",
   "name": "python",
   "nbconvert_exporter": "python",
   "pygments_lexer": "ipython3",
   "version": "3.11.3"
  },
  "toc": {
   "base_numbering": 1,
   "nav_menu": {},
   "number_sections": true,
   "sideBar": true,
   "skip_h1_title": false,
   "title_cell": "Table of Contents",
   "title_sidebar": "Contents",
   "toc_cell": false,
   "toc_position": {},
   "toc_section_display": true,
   "toc_window_display": true
  }
 },
 "nbformat": 4,
 "nbformat_minor": 2
}
