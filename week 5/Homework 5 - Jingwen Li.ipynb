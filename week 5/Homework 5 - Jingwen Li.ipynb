{
 "cells": [
  {
   "attachments": {},
   "cell_type": "markdown",
   "id": "3e013a68",
   "metadata": {},
   "source": [
    "# Homework 5 - Jingwen Li\n",
    "\n",
    "## FINM 35700 - Spring 2023\n",
    "\n",
    "### UChicago Financial Mathematics\n",
    "\n",
    "* Alex Popovici\n",
    "* alex.popovici@uchicago.edu"
   ]
  },
  {
   "attachments": {},
   "cell_type": "markdown",
   "id": "97d4c3b4",
   "metadata": {},
   "source": [
    "This homework relies on following symbology & data files, as of 2023-05-12.\n",
    "\n",
    "US government bonds:\n",
    "- the US government bonds symbology file `govt_symbology`, \n",
    "- the \"on-the-run\" treasuries data file `govt_on_the_run`,\n",
    "- the US Government bonds market data file `govt_market_prices_eod`,\n",
    "\n",
    "SOFR OIS swaps:\n",
    "- the SOFR OIS swaps symbology file (for hyg basket) `sofr_swaps_symbology`,\n",
    "- the SOFR OIS swaps market data file `sofr_swaps_market_data_eod`,\n",
    "\n",
    "CDX Index:\n",
    "- the CDX Index symbology file (for hyg basket) `cdx_symbology`,\n",
    "- the CDX Index basket composition file `cdx_basket_composition`,\n",
    "\n",
    "HYG ETF:\n",
    "- the corporate  bonds symbology file (for HYG basket) `hyg_corp_symbology`,\n",
    "- the HYG ETF basket composition file  `hyg_basket_composition`,\n"
   ]
  },
  {
   "attachments": {},
   "cell_type": "markdown",
   "id": "da521790",
   "metadata": {},
   "source": [
    "## Scoring: Total of 100 points\n",
    "\n",
    "| Problem | Points |\n",
    "|---------|--------|\n",
    "| 1       | 10     |\n",
    "| 2       | 10     |\n",
    "| 3       | 15     |\n",
    "| 4       | 30     |\n",
    "| 5       | 35     |"
   ]
  },
  {
   "attachments": {},
   "cell_type": "markdown",
   "id": "27e68a4e",
   "metadata": {},
   "source": [
    "# Problem 1: Fixed rate Bond prices and sensitivities (bond yield model)"
   ]
  },
  {
   "attachments": {},
   "cell_type": "markdown",
   "id": "e07bfd7c",
   "metadata": {},
   "source": [
    "## a. True or False (fixed rate bond prices)\n",
    "\n",
    "1. Fixed rate bond price is increasing in yield\n",
    "2. Fixed rate bond price is increasing in coupon\n",
    "3. Fixed rate bond price is increasing in bond maturity\n",
    "4. Fixed rate callable bond prices are higher or equal to their \"bullet\" (non-callable) version."
   ]
  },
  {
   "attachments": {},
   "cell_type": "markdown",
   "id": "71a0c311",
   "metadata": {},
   "source": [
    "    ans:\n",
    "\n",
    "1. False, fixed rate bond price decreases when yield increases. This is because the yield rate and bond price move in opposite directions. When the yield rate increases, it means that investors require a higher return for their investments, decreasing the price they are willing to pay for the bond.\n",
    "\n",
    "2. True, the fixed rate bond price is increasing in coupon. Higher coupon payments mean the bondholder receives more income, making the bond more valuable. Hence, bond prices would rise.\n",
    "\n",
    "3. False, the fixed rate bond price generally decreases with an increase in bond maturity. This is because the longer the bond's maturity, the greater the duration or price volatility, and the more the price falls for a given increase in yield. Investors would typically expect higher returns for holding the bond over a longer period due to increased interest rate risk, hence driving the price down.\n",
    "\n",
    "4. False, callable bond prices are generally lower than their non-callable counterparts. The callable feature benefits the issuer, as it gives them the option to pay off the bond before its maturity if interest rates fall. This potential for early payment introduces additional risk for the bondholder, who therefore demands a higher yield (lower price) for bearing this additional risk."
   ]
  },
  {
   "attachments": {},
   "cell_type": "markdown",
   "id": "f35a4c28",
   "metadata": {},
   "source": [
    "## b. True or False (fixed rate bond yields)\n",
    "\n",
    "1. Fixed rate bond yield is increasing in interest rate\n",
    "2. Fixed rate bond yield is increasing in credit spread\n",
    "3. Fixed rate bond yield is increasing in coupon\n",
    "4. Fixed rate bond yield is increasing in bond maturity\n",
    "5. Fixed rate callable bond yields are lower or equal to their \"bullet\" (non-callable) version."
   ]
  },
  {
   "attachments": {},
   "cell_type": "markdown",
   "id": "0cff4c47",
   "metadata": {},
   "source": [
    "    ans: \n",
    "    \n",
    "1. False, when everything else is constant, an increase in interest rate actually reduces the yield of fixed-rate bonds.\n",
    "\n",
    "2. False, all else equal, increasing credit spread increases risk of default, which normally would require yield to compensate for the added risk.\n",
    "\n",
    "3. True, with everything else kept constant, a higher coupon rate would indeed lead to an increase in the bond yield. This is because the bond yield is directly proportional to the coupon rate.\n",
    "\n",
    "4. False, all else equal, fixed rate bond yields are inversely related to bond maturity. \n",
    "\n",
    "5. True, assuming they are offered at the same price, the yield of a fixed-rate bond with a callable option would indeed be lower or equal to that of their non-callable counterpart. This is because the callable feature adds a level of risk for the bondholder, which must be compensated with a higher yield."
   ]
  },
  {
   "attachments": {},
   "cell_type": "markdown",
   "id": "b55f5008",
   "metadata": {},
   "source": [
    "## c. True or False (fixed rate bond durations)\n",
    "\n",
    "1. Fixed rate bond duration is increasing with yield\n",
    "2. Fixed rate bond duration is increasing in coupon\n",
    "3. Fixed rate bond duration is increasing with bond maturity\n",
    "4. Fixed rate callable bond durations are higher or equal to their \"bullet\" (non-callable) version ."
   ]
  },
  {
   "attachments": {},
   "cell_type": "markdown",
   "id": "6ee4de75",
   "metadata": {},
   "source": [
    "    ans:\n",
    "\n",
    "1. False. In reality, the duration of a fixed-rate bond is inversely related to yield. That means, if yield increases, the duration decreases.\n",
    "\n",
    "2. False. Higher coupon rates, all else being equal, actually result in lower bond durations because more of the bond's total return is being received earlier through the higher coupon payments.\n",
    "\n",
    "3. True. The duration of a fixed-rate bond typically increases with its maturity. Longer-dated bonds have a longer time before their final cash flows, hence their durations are longer.\n",
    "\n",
    "4. False. Callable bonds tend to have lower durations than their non-callable counterparts. This is because the call option shortens the expected life of the bond, thus reducing its duration."
   ]
  },
  {
   "attachments": {},
   "cell_type": "markdown",
   "id": "bcd04674",
   "metadata": {},
   "source": [
    "## d. True or False (fixed rate bond convexities)\n",
    "\n",
    "1. Fixed rate bond convexity is increasing with yield\n",
    "2. Fixed rate bond convexity is increasing in coupon\n",
    "3. Fixed rate bond convexity is increasing with bond maturity\n",
    "4. Fixed rate callable bond convexities are higher or equal to their \"bullet\" (non-callable) version\n"
   ]
  },
  {
   "attachments": {},
   "cell_type": "markdown",
   "id": "74ebd4ae",
   "metadata": {},
   "source": [
    "    ans:\n",
    "\n",
    "1. False. The convexity of a fixed rate bond is typically decreasing with yield. As yields rise, the price-yield curve flattens, reducing convexity.\n",
    "\n",
    "2. False. Convexity is typically lower for bonds with higher coupons, because the cash flows are received sooner, reducing the impact of compounding.\n",
    "\n",
    "3. True. Fixed rate bond convexity generally increases with bond maturity because long-term bonds are more sensitive to changes in yield than short-term bonds.\n",
    "\n",
    "4. False. Callable bonds generally have lower convexity than their bullet counterparts. The call option allows the issuer to redeem the bond before its maturity date. This optionality reduces the bond's duration when yields are low and limits the price appreciation of the bond when yields fall, thus reducing its convexity.\n"
   ]
  },
  {
   "attachments": {},
   "cell_type": "markdown",
   "id": "f293d23e",
   "metadata": {},
   "source": [
    "# Problem 2: Credit Default Swaps (hazard rate model)\n",
    "## a. True or False (CDS Premium Leg PV)\n",
    "\n",
    "1. CDS premium leg PV is increasing in CDS Par Spread\n",
    "2. CDS premium leg PV is increasing in interest rate\n",
    "2. CDS premium leg PV is increasing in hazard rate\n",
    "3. CDS premium leg PV is increasing in recovery rate\n",
    "4. CDS premium leg PV is increasing in coupon\n",
    "5. CDS premium leg PV is increasing in CDS maturity\n"
   ]
  },
  {
   "attachments": {},
   "cell_type": "markdown",
   "id": "bf9352f5",
   "metadata": {},
   "source": [
    "    ans:\n",
    "    \n",
    "1. True. The present value (PV) of the premium leg of a credit default swap (CDS) does increase with the CDS par spread. A higher par spread denotes that the protection buyer will have to pay higher premiums over the life of the CDS, hence escalating the PV of the premium leg.\n",
    "\n",
    "2. False. The present value of the premium leg indeed decreases with the interest rate. An increase in the discount rate, which is often associated with the interest rate, reduces the present value of the future cash flows (premium payments).\n",
    "\n",
    "3. True. The PV of the premium leg does increase with the hazard rate. A higher hazard rate implies a greater likelihood of default, and thus the protection buyer pays more premiums. This, in turn, elevates the PV of the premium leg.\n",
    "\n",
    "4. False. The PV of the premium leg tends to decrease with the recovery rate. A higher recovery rate reduces the expected loss given default, thereby decreasing the expected payout from the CDS. This ultimately lessens the premiums the protection buyer is willing to pay, bringing down the PV of the premium leg.\n",
    "\n",
    "5. True. The PV of the premium leg does increase with the CDS coupon. Higher coupons mean the protection buyer is paying more premiums over the life of the CDS, which contributes to an increase in the PV of the premium leg.\n",
    "\n",
    "6. True. The PV of the premium leg does generally increase with the maturity of the CDS. A longer maturity denotes more premium payments, thereby increasing the PV of the premium leg. However, this relationship isn't strictly linear due to discounting effects, as future payments are less valuable in present value terms."
   ]
  },
  {
   "attachments": {},
   "cell_type": "markdown",
   "id": "d921375c",
   "metadata": {},
   "source": [
    "## b. True or False (CDS Default Leg PV)\n",
    "\n",
    "1. CDS default leg PV is increasing in CDS Par Spread\n",
    "2. CDS default leg PV is increasing in interest rate\n",
    "3. CDS default leg PV is increasing in hazard rate\n",
    "4. CDS default leg PV is increasing in recovery rate\n",
    "5. CDS default leg PV is increasing in coupon\n",
    "6. CDS default leg PV is increasing in CDS maturity"
   ]
  },
  {
   "attachments": {},
   "cell_type": "markdown",
   "id": "6ee9d73a",
   "metadata": {},
   "source": [
    "    ans:\n",
    "     \n",
    "1. False. The CDS default leg PV does not necessarily increase with the CDS par spread. The par spread is predominantly associated with the premium leg of a CDS contract. Even though a higher par spread could suggest elevated credit risk, it does not directly influence the default leg's PV. Instead, the default leg's PV is primarily contingent on the probability of default (expressed as the hazard rate), the loss given default, and the discount factor.\n",
    "\n",
    "2. False. The PV of the default leg indeed decreases with an increase in the interest rate. Rising interest rates lead to a higher discount rate, which subsequently diminishes the present value of future potential payouts.\n",
    "\n",
    "3. True. The PV of the default leg increases with the hazard rate. An escalated hazard rate represents a higher likelihood of default, thereby amplifying the expected payout from the CDS, which in turn increases the PV of the default leg.\n",
    "\n",
    "4. False. The PV of the default leg diminishes with an increase in the recovery rate. A higher recovery rate reduces the expected loss given default, which subsequently decreases the expected payout from the CDS and reduces the PV of the default leg.\n",
    "\n",
    "5. False. The CDS coupon primarily influences the premium leg of a CDS contract, not the default leg. The PV of the default leg chiefly depends on factors such as the probability of default (expressed as the hazard rate), loss given default, and the discount factor.\n",
    "\n",
    "6. True. The PV of the default leg generally escalates with the maturity of the CDS. A longer contract duration means a larger window for a credit event to occur, thereby increasing the expected payout from the CDS and the PV of the default leg. However, this relationship is not entirely linear due to the effect of discounting, as each additional future payout is valued less in present value terms."
   ]
  },
  {
   "attachments": {},
   "cell_type": "markdown",
   "id": "77064349",
   "metadata": {},
   "source": [
    "## c. True or False (CDS PV)\n",
    "\n",
    "\n",
    "1. CDS PV is increasing in CDS Par Spread\n",
    "2. CDS PV is increasing in interest rate\n",
    "3. CDS PV is increasing in hazard rate\n",
    "4. CDS PV is increasing in recovery rate\n",
    "5. CDS PV is increasing in coupon\n",
    "6. CDS PV is increasing in CDS maturity\n"
   ]
  },
  {
   "attachments": {},
   "cell_type": "markdown",
   "id": "e5437820",
   "metadata": {},
   "source": [
    "    ans:\n",
    "    \n",
    "1. False. The overall PV of a CDS does not necessarily increase with the CDS par spread. Although a higher spread elevates the PV of the premium leg (as the protection seller receives more), it also indicates a higher credit risk, potentially escalating the PV of the default leg (leading to a higher expected payout for the protection buyer). The net impact on the total CDS PV hinges on the equilibrium between these two effects.\n",
    "\n",
    "2. False. The overall PV of a CDS does not necessarily rise with the interest rate. While an increased interest rate lowers the PV of both the premium leg (as discounted future premiums decrease in value) and the default leg (since discounted future potential payouts are worth less), the net effect on the total CDS PV depends on the balance between these two impacts.\n",
    "\n",
    "3. False. The overall PV of a CDS does not necessarily increase with the hazard rate. A higher hazard rate raises the PV of the default leg (as there is a higher expected payout for the protection buyer) but also enhances the PV of the premium leg (since the protection seller receives more premiums). The net effect on the total CDS PV depends on the equilibrium between these two factors.\n",
    "\n",
    "4. False. The overall PV of a CDS does not necessarily rise with the recovery rate. A higher recovery rate decreases the PV of the default leg (as there is a lower expected payout for the protection buyer) and also reduces the PV of the premium leg (because the protection seller receives fewer premiums). The net impact on the total CDS PV depends on the balance between these two influences.\n",
    "\n",
    "5. False. The overall PV of a CDS does not necessarily increase with the coupon. Even though a higher coupon elevates the PV of the premium leg (since the protection seller receives more), it doesn't directly affect the PV of the default leg. The total CDS PV depends on the balance between these two effects.\n",
    "\n",
    "6. False. The overall PV of a CDS does not necessarily increase with the CDS maturity. While a longer maturity escalates the PV of both the premium leg (owing to more future premiums) and the default leg (due to the increased time window for a credit event to occur), the net effect on the total CDS PV is contingent on the equilibrium between these two impacts."
   ]
  },
  {
   "attachments": {},
   "cell_type": "markdown",
   "id": "58ac74be",
   "metadata": {},
   "source": [
    "## d. True or False (CDS Par Spread)\n",
    "\n",
    "\n",
    "1. CDS Par Spread is increasing in interest rates\n",
    "2. CDS Par Spread is increasing in hazard rate\n",
    "3. CDS Par Spread is increasing in recovery rate\n",
    "4. CDS Par Spread is increasing in coupon\n",
    "5. CDS Par Spread is increasing in CDS maturity"
   ]
  },
  {
   "attachments": {},
   "cell_type": "markdown",
   "id": "8a1ea843",
   "metadata": {},
   "source": [
    "    ans:\n",
    "\n",
    "1. False. The CDS par spread does not necessarily increase with interest rates. The par spread of a CDS represents the annual amount the protection buyer needs to pay to the protection seller over the life of the contract, expressed as a percentage of the notional amount. It is primarily determined by the credit risk associated with the reference entity and is not directly influenced by fluctuations in interest rates.\n",
    "\n",
    "2. True. The CDS par spread tends to increase with the hazard rate. A higher hazard rate signifies a higher risk of default, necessitating a higher spread to compensate the protection seller for assuming this risk.\n",
    "\n",
    "3. False. The CDS par spread typically decreases when the recovery rate increases. A higher recovery rate means a lower loss given default, thus reducing the risk to the protection seller and subsequently the required spread.\n",
    "\n",
    "4. False. The CDS par spread does not necessarily increase with the coupon. The spread primarily measures credit risk and is not directly influenced by the coupon payments of the underlying bond.\n",
    "\n",
    "5. False. The relationship between CDS par spread and maturity isn't straightforward. In general, a longer maturity could imply more credit risk, resulting in higher spreads. However, the relationship is also influenced by the term structure of credit spreads. For example, in an upward-sloping term structure, spreads could increase with maturity; however, in an inverted term structure, spreads might decrease with maturity."
   ]
  },
  {
   "attachments": {},
   "cell_type": "markdown",
   "id": "d3f2d550",
   "metadata": {},
   "source": [
    "# Problem 3: Perpetual CDS\n",
    "We are interested in a perpetual CDS contract (infinite maturity) on a face notional of $100, flat interest rate of 4% and coupon of 5% (quarterly payments).\n",
    "\n",
    "For simplicity, we assuming a flat hazard rate of 1% per annum, a rcovery of 40%, T+0 settlement and zero accrued."
   ]
  },
  {
   "attachments": {},
   "cell_type": "markdown",
   "id": "5868e51a",
   "metadata": {},
   "source": [
    "## a. What is the fair value of the CDS premium leg?\n"
   ]
  },
  {
   "cell_type": "code",
   "execution_count": 54,
   "id": "ffffb1c9",
   "metadata": {},
   "outputs": [],
   "source": [
    "hazard_rate = 0.01\n",
    "recovery_rate = 0.4 \n",
    "coupon_rate = 0.05\n",
    "interest_rate = 0.04\n",
    "\n",
    "time_to_maturity = 0\n",
    "survival_probability = 1.0"
   ]
  },
  {
   "cell_type": "code",
   "execution_count": 45,
   "id": "aa4cf3c3",
   "metadata": {},
   "outputs": [
    {
     "name": "stdout",
     "output_type": "stream",
     "text": [
      "The fair value of the CDS premium leg is $101.00\n"
     ]
    }
   ],
   "source": [
    "premium_leg_pv =  1/(1-0.9975/1.01) *1.25\n",
    "\n",
    "print(f\"The fair value of the CDS premium leg is ${premium_leg_pv:.2f}\")\n"
   ]
  },
  {
   "attachments": {},
   "cell_type": "markdown",
   "id": "3ea18d24",
   "metadata": {},
   "source": [
    "## b. Compute the fair value of the CDS default leg and the CDS Par Spread."
   ]
  },
  {
   "cell_type": "code",
   "execution_count": 48,
   "id": "ac8bb867",
   "metadata": {},
   "outputs": [
    {
     "name": "stdout",
     "output_type": "stream",
     "text": [
      "The fair value of the CDS premium leg is $12.15\n"
     ]
    }
   ],
   "source": [
    "default_leg_pv = 60 * 0.0025 / 0.9975 * 1/(1-0.9975/1.01)\n",
    "print(f\"The fair value of the CDS premium leg is ${default_leg_pv:.2f}\")"
   ]
  },
  {
   "cell_type": "code",
   "execution_count": 47,
   "id": "d282764d",
   "metadata": {},
   "outputs": [
    {
     "name": "stdout",
     "output_type": "stream",
     "text": [
      "The fair value of the CDS par spread is $20.20\n"
     ]
    }
   ],
   "source": [
    "CDSParSpread=1/(1-0.9975/1.01) * 0.25\n",
    "print(f\"The fair value of the CDS par spread is ${CDSParSpread:.2f}\")"
   ]
  },
  {
   "attachments": {},
   "cell_type": "markdown",
   "id": "6bdbf185",
   "metadata": {},
   "source": [
    "## c. Compute the following CDS risk sensitivities:\n",
    "- IR01\n",
    "- HR01\n",
    "- CS01 and\n",
    "- REC01\n",
    "\n",
    "using the scenario method.\n"
   ]
  },
  {
   "cell_type": "code",
   "execution_count": 49,
   "id": "30cdaf69",
   "metadata": {},
   "outputs": [],
   "source": [
    "def pl_pv_calc(cpn,ir,hr):\n",
    "    return 1/(1-(1-hr/4)/(1+ir/4)) * cpn/4\n",
    "\n",
    "def dl_pv_calc(ir,hr,rec):\n",
    "    return 100 * (1- rec) * (hr/4 )/ (1-hr/4) * 1/ (1-(1-hr/4)/(1+ir/4))\n",
    "\n",
    "def pv_cds_for_seller(cpn,hr,rec,ir):\n",
    "    return pl_pv_calc(cpn,ir,hr) - dl_pv_calc(ir,hr,rec)"
   ]
  },
  {
   "cell_type": "code",
   "execution_count": 55,
   "id": "c9be171f",
   "metadata": {},
   "outputs": [
    {
     "name": "stdout",
     "output_type": "stream",
     "text": [
      "Interest Rate 01 (IR01): 0.1759\n",
      "Hazard Rate 01 (HR01): 0.3001\n",
      "Credit Spread 01 (CS01): 0.3126\n",
      "Recovery Rate 01 (REC01): 0.2025\n"
     ]
    }
   ],
   "source": [
    "# Define a basis point\n",
    "bp = 1/10000\n",
    "\n",
    "# Compute the sensitivities\n",
    "pv = pv_cds_for_seller(cpn = 5,hr = 0.01, rec = 0.4,ir = 0.04)\n",
    "\n",
    "IR01 = pv_cds_for_seller(cpn = 5,hr = 0.01, rec = 0.4,ir = 0.04-0.0001) - pv\n",
    "HR01 = pv_cds_for_seller(cpn = 5,hr = 0.01-0.0001, rec = 0.4,ir = 0.04) - pv\n",
    "CS01 = HR01/(1-interest_rate)\n",
    "REC01 = pv_cds_for_seller(cpn = 5,hr = 0.01, rec = 0.4+0.01,ir = 0.04) - pv\n",
    "\n",
    "# Display the results\n",
    "print(f\"Interest Rate 01 (IR01): {IR01:.4f}\")\n",
    "print(f\"Hazard Rate 01 (HR01): {HR01:.4f}\")\n",
    "print(f\"Credit Spread 01 (CS01): {CS01:.4f}\")\n",
    "print(f\"Recovery Rate 01 (REC01): {REC01:.4f}\")\n"
   ]
  },
  {
   "attachments": {},
   "cell_type": "markdown",
   "id": "1fbffdec",
   "metadata": {},
   "source": [
    "## d. At what time to maturity T does the (implied) default probability over next 5 years drop to 1%?\n",
    "\n",
    "\\begin{align}\n",
    "\\mathbb{P} \\left(\\tau \\in [T, T+5] \\right) = 1/100\n",
    "\\end{align}\n"
   ]
  },
  {
   "cell_type": "code",
   "execution_count": 51,
   "id": "ebaa0ee3",
   "metadata": {},
   "outputs": [],
   "source": [
    "import numpy as np"
   ]
  },
  {
   "cell_type": "code",
   "execution_count": 56,
   "id": "6e544b2b",
   "metadata": {},
   "outputs": [
    {
     "name": "stdout",
     "output_type": "stream",
     "text": [
      "Time to maturity (T) when default probability drops to 1%: 1 year\n"
     ]
    }
   ],
   "source": [
    "while survival_probability**5 > 0.99:\n",
    "    time_to_maturity += 1\n",
    "    discount_factor = np.exp(-interest_rate * time_to_maturity)\n",
    "    hazard_discounted = hazard_rate * discount_factor\n",
    "    survival_probability = np.exp(-hazard_discounted)\n",
    "\n",
    "print(\"Time to maturity (T) when default probability drops to 1%:\", time_to_maturity, \"year\")"
   ]
  },
  {
   "attachments": {},
   "cell_type": "markdown",
   "id": "2dac64a2",
   "metadata": {},
   "source": [
    "# Problem 4: CDS Intrinisc Index analysis on CDX IG 5Y\n"
   ]
  },
  {
   "cell_type": "code",
   "execution_count": 32,
   "id": "80406cd6",
   "metadata": {},
   "outputs": [],
   "source": [
    "import QuantLib as ql\n",
    "import pandas as pd\n",
    "import os\n",
    "import datetime as dt\n",
    "\n",
    "import matplotlib.pyplot as plt\n",
    "%matplotlib inline\n",
    "import warnings\n",
    "warnings.filterwarnings(\"ignore\")"
   ]
  },
  {
   "attachments": {},
   "cell_type": "markdown",
   "id": "9150375f",
   "metadata": {},
   "source": [
    "# Collection of useful helper functions from previous homeworks"
   ]
  },
  {
   "cell_type": "code",
   "execution_count": null,
   "id": "295677b5",
   "metadata": {},
   "outputs": [],
   "source": [
    "def get_ql_date(date) -> ql.Date:\n",
    "    \"\"\"\n",
    "    convert dt.date to ql.Date\n",
    "    \"\"\"\n",
    "    if isinstance(date, dt.date):\n",
    "        return ql.Date(date.day, date.month, date.year)\n",
    "    elif isinstance(date, str):\n",
    "        date = dt.datetime.strptime(date, \"%Y-%m-%d\").date()\n",
    "        return ql.Date(date.day, date.month, date.year)\n",
    "    else:\n",
    "        raise ValueError(f\"to_qldate, {type(date)}, {date}\")\n",
    "\n",
    "\n",
    "def create_schedule_from_symbology(details: dict):\n",
    "    '''Create a QuantLib cashflow schedule from symbology details dictionary (usually one row of the symbology dataframe)\n",
    "    '''\n",
    "    # Create maturity from details['maturity']\n",
    "    maturity = get_ql_date(details['maturity'])\n",
    "    \n",
    "    # Create acc_first from details['acc_first']\n",
    "    acc_first = get_ql_date(details['acc_first'])\n",
    "    \n",
    "    # Create calendar for Corp and Govt asset classes\n",
    "    calendar = ql.UnitedStates(ql.UnitedStates.GovernmentBond)\n",
    "    \n",
    "    # define period from details['cpn_freq'] ... can be hard-coded to 2 = semi-annual frequency\n",
    "    period = ql.Period(2)\n",
    "    \n",
    "    # business_day_convention\n",
    "    business_day_convention = ql.Unadjusted\n",
    "    \n",
    "    # termination_date_convention\n",
    "    termination_date_convention = ql.Unadjusted\n",
    "    \n",
    "    # date_generation\n",
    "    date_generation=ql.DateGeneration.Backward\n",
    "    \n",
    "    # Create schedule using ql.MakeSchedule interface (with keyword arguments)\n",
    "    schedule = ql.MakeSchedule(effectiveDate=acc_first,  # this may not be the same as the bond's start date\n",
    "                            terminationDate=maturity,\n",
    "                            tenor=period,\n",
    "                            calendar=calendar,\n",
    "                            convention=business_day_convention,\n",
    "                            terminalDateConvention=termination_date_convention,\n",
    "                            rule=date_generation,\n",
    "                            endOfMonth=True,\n",
    "                            firstDate=ql.Date(),\n",
    "                            nextToLastDate=ql.Date())\n",
    "    return schedule\n",
    "\n",
    "\n",
    "def create_bond_from_symbology(details: dict):\n",
    "    '''Create a US fixed rate bond object from symbology details dictionary (usually one row of the symbology dataframe)\n",
    "    '''\n",
    "    \n",
    "     # Create day_count from details['dcc']\n",
    "     # For US Treasuries use ql.ActualActual(ql.ActualActual.ISMA)\n",
    "     # For US Corporates use ql.Thirty360(ql.Thirty360.USA)\n",
    "    if details['dcc'] == '30/360':\n",
    "        day_count = ql.Thirty360(ql.Thirty360.USA)\n",
    "    elif details['dcc'] == 'ACT/ACT':\n",
    "        day_count = ql.ActualActual(ql.ActualActual.ISMA)\n",
    "    else:\n",
    "        raise ValueError(f\"unsupported day count, {type(details['dcc'])}, {details['dcc']}\")\n",
    "    \n",
    "    # Create day_count from details['start_date']    \n",
    "    issue_date = get_ql_date(details['start_date'])\n",
    "    \n",
    "    # Create days_settle from details['days_settle']\n",
    "    days_settle = int(float(details['days_settle']))\n",
    "\n",
    "    # Create days_settle from details['coupon']\n",
    "    coupon = float(details['coupon'])/100.\n",
    "\n",
    "    # Create cashflow schedule\n",
    "    schedule = create_schedule_from_symbology(details)\n",
    "    \n",
    "    face_value = 100\n",
    "    redemption = 100\n",
    "    \n",
    "    payment_convention = ql.Unadjusted\n",
    "        \n",
    "    # Create fixed rate bond object\n",
    "    fixed_rate_bond = ql.FixedRateBond(\n",
    "        days_settle,\n",
    "        face_value,\n",
    "        schedule,\n",
    "        [coupon],\n",
    "        day_count,\n",
    "        payment_convention,\n",
    "        redemption,\n",
    "        issue_date)        \n",
    "\n",
    "    return fixed_rate_bond\n",
    "\n",
    "\n",
    "def get_bond_cashflows(bond: ql.FixedRateBond, calc_date=ql.Date):\n",
    "    '''Returns all future cashflows as of calc_date, i.e. with payment dates > calc_date.\n",
    "    '''    \n",
    "    day_counter = bond.dayCounter()    \n",
    "    \n",
    "    x = [(cf.date(), day_counter.yearFraction(calc_date, cf.date()), cf.amount()) for cf in bond.cashflows()]\n",
    "    cf_date, cf_yearFrac, cf_amount = zip(*x)\n",
    "    cashflows_df = pd.DataFrame(data={'CashFlowDate': cf_date, 'CashFlowYearFrac': cf_yearFrac, 'CashFlowAmount': cf_amount})\n",
    "\n",
    "    # filter for payment dates > calc_date\n",
    "    cashflows_df = cashflows_df[cashflows_df.CashFlowYearFrac > 0]\n",
    "    return cashflows_df\n",
    "\n",
    "\n",
    "def calibrate_yield_curve_from_frame(\n",
    "        calc_date: ql.Date,\n",
    "        treasury_details: pd.DataFrame,\n",
    "        price_quote_column: str):\n",
    "    '''Create a calibrated yield curve from a details dataframe which includes bid/ask/mid price quotes.\n",
    "    '''\n",
    "    ql.Settings.instance().evaluationDate = calc_date\n",
    "\n",
    "    # Sort dataframe by maturity\n",
    "    sorted_details_frame = treasury_details.sort_values(by='maturity')    \n",
    "    \n",
    "    # For US Treasuries use ql.ActualActual(ql.ActualActual.ISMA)\n",
    "    day_count = ql.ActualActual(ql.ActualActual.ISMA)\n",
    "\n",
    "    bond_helpers = []\n",
    "    \n",
    "    for index, row in sorted_details_frame.iterrows():\n",
    "        bond_object = create_bond_from_symbology(row)\n",
    "        \n",
    "        tsy_clean_price_quote = row[price_quote_column]\n",
    "        tsy_clean_price_handle = ql.QuoteHandle(ql.SimpleQuote(tsy_clean_price_quote))\n",
    "        \n",
    "        bond_helper = ql.BondHelper(tsy_clean_price_handle, bond_object)\n",
    "        bond_helpers.append(bond_helper)\n",
    "        \n",
    "    yield_curve = ql.PiecewiseLogCubicDiscount(calc_date, bond_helpers, day_count)\n",
    "    yield_curve.enableExtrapolation()\n",
    "    return yield_curve\n",
    "\n",
    "\n",
    "def calibrate_sofr_curve_from_frame(\n",
    "        calc_date: ql.Date,\n",
    "        sofr_details: pd.DataFrame,\n",
    "        rate_quote_column: str):\n",
    "    '''Create a calibrated yield curve from a SOFR details dataframe which includes rate quotes.\n",
    "    '''\n",
    "    ql.Settings.instance().evaluationDate = calc_date\n",
    "\n",
    "    # Sort dataframe by maturity\n",
    "    sorted_details_frame = sofr_details.sort_values(by='term')    \n",
    "    \n",
    "    # settle_days\n",
    "    settle_days = 2\n",
    "    \n",
    "    # For US SOFR OIS Swaps \n",
    "    day_count = ql.Actual360()\n",
    "\n",
    "    # For US SOFR Swaps     \n",
    "    calendar = ql.UnitedStates(ql.UnitedStates.GovernmentBond)\n",
    "    \n",
    "    sofr_helpers = []\n",
    "    \n",
    "    for index, row in sorted_details_frame.iterrows():\n",
    "        sofr_quote = row[rate_quote_column]\n",
    "        tenor_in_years = row['term']\n",
    "        sofr_tenor = ql.Period(tenor_in_years, ql.Years)\n",
    "        \n",
    "        # create sofr_rate_helper\n",
    "        sofr_helper = ql.OISRateHelper(settle_days, sofr_tenor, ql.QuoteHandle(ql.SimpleQuote(sofr_quote/100)), ql.Sofr())\n",
    "                        \n",
    "        sofr_helpers.append(sofr_helper)\n",
    "        \n",
    "    sofr_yield_curve = ql.PiecewiseLinearZero(settle_days, calendar, sofr_helpers, day_count)\n",
    "    sofr_yield_curve.enableExtrapolation()\n",
    "    \n",
    "    return sofr_yield_curve\n",
    "\n",
    "\n",
    "def calibrate_cds_hazard_rate_curve(calc_date, sofr_yield_curve_handle, cds_par_spreads_bps, cds_recovery_rate = 0.4):\n",
    "    '''Calibrate hazard rate curve from CDS Par Spreads'''\n",
    "    CDS_settle_days = 2\n",
    "\n",
    "    CDS_day_count = ql.Actual360()\n",
    "\n",
    "    # CDS standard tenors: 1Y, 2Y, 3Y, 5Y 7Y and 10Y\n",
    "    CDS_tenors = [ql.Period(y, ql.Years) for y in [1, 2, 3, 5, 7, 10]]\n",
    "              \n",
    "\n",
    "    CDS_helpers = [ql.SpreadCdsHelper((cds_par_spread / 10000.0), CDS_tenor, CDS_settle_days, ql.TARGET(),\n",
    "                                  ql.Quarterly, ql.Following, ql.DateGeneration.TwentiethIMM, CDS_day_count, cds_recovery_rate, sofr_yield_curve_handle)\n",
    "               \n",
    "    for (cds_par_spread, CDS_tenor) in zip(cds_par_spreads_bps, CDS_tenors)]\n",
    "\n",
    "    # bootstrap hazard_rate_curve\n",
    "    hazard_rate_curve = ql.PiecewiseFlatHazardRate(calc_date, CDS_helpers, CDS_day_count)\n",
    "    hazard_rate_curve.enableExtrapolation()\n",
    "\n",
    "    return(hazard_rate_curve)\n"
   ]
  },
  {
   "cell_type": "code",
   "execution_count": 71,
   "id": "31fe81f5",
   "metadata": {},
   "outputs": [],
   "source": [
    "# Use static calculation/valuation date of 2023-05-12, matching data available in the market prices EOD file\n",
    "calc_date = ql.Date(12, 5, 2023)\n",
    "ql.Settings.instance().evaluationDate = calc_date\n",
    "\n",
    "calc_date_str = '2023-05-12'"
   ]
  },
  {
   "attachments": {},
   "cell_type": "markdown",
   "id": "b74a4cd1",
   "metadata": {},
   "source": [
    "## a. Load and explore the CDX IG 5Y symbology, basket composition and market data\n",
    "\n",
    "Load the `cdx_symbology` Excel file into a dataframe. Identify the CDX IG 5Y Series 40 index.\n",
    "\n",
    "Load the `cdx_basket_composition` Excel file into a dataframe. It contains the CDX IG 5Y Series 40 basket composition and CDS Par Spread quotes as of 2023-05-12.\n",
    "\n",
    "How many CDS contracts are in the CDX index basket? What are the contractual specs and weights of each CDS? Remember that each CDS is identical to the CDX index and the basket has uniform weights.\n",
    "\n",
    "Compute mean, median and standard deviation of CDS Par Spreads in the basket.\n",
    "\n",
    "Sort the basket dataframe by CDS Par Spreads and plot the chart of CDS Par Spreads."
   ]
  },
  {
   "cell_type": "code",
   "execution_count": 7,
   "id": "e3928514",
   "metadata": {},
   "outputs": [],
   "source": [
    "cdx_symbology = pd.read_excel('../data/cdx_symbology.xlsx')\n",
    "\n",
    "cdx_basket_composition = pd.read_excel('../data/cdx_ig_40_5y_basket_composition.xlsx')"
   ]
  },
  {
   "cell_type": "code",
   "execution_count": 8,
   "id": "0b72d759",
   "metadata": {},
   "outputs": [
    {
     "data": {
      "text/html": [
       "<div>\n",
       "<style scoped>\n",
       "    .dataframe tbody tr th:only-of-type {\n",
       "        vertical-align: middle;\n",
       "    }\n",
       "\n",
       "    .dataframe tbody tr th {\n",
       "        vertical-align: top;\n",
       "    }\n",
       "\n",
       "    .dataframe thead th {\n",
       "        text-align: right;\n",
       "    }\n",
       "</style>\n",
       "<table border=\"1\" class=\"dataframe\">\n",
       "  <thead>\n",
       "    <tr style=\"text-align: right;\">\n",
       "      <th></th>\n",
       "      <th>symbol</th>\n",
       "      <th>ticker</th>\n",
       "      <th>class</th>\n",
       "      <th>security</th>\n",
       "      <th>name</th>\n",
       "      <th>type</th>\n",
       "      <th>dcc</th>\n",
       "      <th>cpn_first</th>\n",
       "      <th>maturity</th>\n",
       "      <th>currency</th>\n",
       "    </tr>\n",
       "  </thead>\n",
       "  <tbody>\n",
       "    <tr>\n",
       "      <th>0</th>\n",
       "      <td>CDX_CDXIG039</td>\n",
       "      <td>CDXIG039</td>\n",
       "      <td>Curncy</td>\n",
       "      <td>MARKIT CDX IG</td>\n",
       "      <td>MARKIT CDX.NA.IG.39 12/32</td>\n",
       "      <td>CREDIT DEFAULT SWAP</td>\n",
       "      <td>ACT/360</td>\n",
       "      <td>2022-12-20</td>\n",
       "      <td>2032-12-20</td>\n",
       "      <td>USD</td>\n",
       "    </tr>\n",
       "    <tr>\n",
       "      <th>1</th>\n",
       "      <td>CDX_CDXIG040</td>\n",
       "      <td>CDXIG040</td>\n",
       "      <td>Curncy</td>\n",
       "      <td>MARKIT CDX IG</td>\n",
       "      <td>MARKIT CDX.NA.IG.40 06/33</td>\n",
       "      <td>CREDIT DEFAULT SWAP</td>\n",
       "      <td>ACT/360</td>\n",
       "      <td>2023-06-20</td>\n",
       "      <td>2033-06-20</td>\n",
       "      <td>USD</td>\n",
       "    </tr>\n",
       "    <tr>\n",
       "      <th>2</th>\n",
       "      <td>CDX_CDXIG139</td>\n",
       "      <td>CDXIG139</td>\n",
       "      <td>Curncy</td>\n",
       "      <td>MARKIT CDX IG</td>\n",
       "      <td>MARKIT CDX.NA.IG.39 12/23</td>\n",
       "      <td>CREDIT DEFAULT SWAP</td>\n",
       "      <td>ACT/360</td>\n",
       "      <td>2022-12-20</td>\n",
       "      <td>2023-12-20</td>\n",
       "      <td>USD</td>\n",
       "    </tr>\n",
       "    <tr>\n",
       "      <th>3</th>\n",
       "      <td>CDX_CDXIG140</td>\n",
       "      <td>CDXIG140</td>\n",
       "      <td>Curncy</td>\n",
       "      <td>MARKIT CDX IG</td>\n",
       "      <td>MARKIT CDX.NA.IG.40 06/24</td>\n",
       "      <td>CREDIT DEFAULT SWAP</td>\n",
       "      <td>ACT/360</td>\n",
       "      <td>2023-06-20</td>\n",
       "      <td>2024-06-20</td>\n",
       "      <td>USD</td>\n",
       "    </tr>\n",
       "    <tr>\n",
       "      <th>4</th>\n",
       "      <td>CDX_CDXIG239</td>\n",
       "      <td>CDXIG239</td>\n",
       "      <td>Curncy</td>\n",
       "      <td>MARKIT CDX IG</td>\n",
       "      <td>MARKIT CDX.NA.IG.39 12/24</td>\n",
       "      <td>CREDIT DEFAULT SWAP</td>\n",
       "      <td>ACT/360</td>\n",
       "      <td>2022-12-20</td>\n",
       "      <td>2024-12-20</td>\n",
       "      <td>USD</td>\n",
       "    </tr>\n",
       "  </tbody>\n",
       "</table>\n",
       "</div>"
      ],
      "text/plain": [
       "         symbol    ticker   class       security                       name  \\\n",
       "0  CDX_CDXIG039  CDXIG039  Curncy  MARKIT CDX IG  MARKIT CDX.NA.IG.39 12/32   \n",
       "1  CDX_CDXIG040  CDXIG040  Curncy  MARKIT CDX IG  MARKIT CDX.NA.IG.40 06/33   \n",
       "2  CDX_CDXIG139  CDXIG139  Curncy  MARKIT CDX IG  MARKIT CDX.NA.IG.39 12/23   \n",
       "3  CDX_CDXIG140  CDXIG140  Curncy  MARKIT CDX IG  MARKIT CDX.NA.IG.40 06/24   \n",
       "4  CDX_CDXIG239  CDXIG239  Curncy  MARKIT CDX IG  MARKIT CDX.NA.IG.39 12/24   \n",
       "\n",
       "                  type      dcc  cpn_first   maturity currency  \n",
       "0  CREDIT DEFAULT SWAP  ACT/360 2022-12-20 2032-12-20      USD  \n",
       "1  CREDIT DEFAULT SWAP  ACT/360 2023-06-20 2033-06-20      USD  \n",
       "2  CREDIT DEFAULT SWAP  ACT/360 2022-12-20 2023-12-20      USD  \n",
       "3  CREDIT DEFAULT SWAP  ACT/360 2023-06-20 2024-06-20      USD  \n",
       "4  CREDIT DEFAULT SWAP  ACT/360 2022-12-20 2024-12-20      USD  "
      ]
     },
     "execution_count": 8,
     "metadata": {},
     "output_type": "execute_result"
    }
   ],
   "source": [
    "cdx_symbology.head()"
   ]
  },
  {
   "cell_type": "code",
   "execution_count": 9,
   "id": "cd366774",
   "metadata": {},
   "outputs": [
    {
     "data": {
      "text/html": [
       "<div>\n",
       "<style scoped>\n",
       "    .dataframe tbody tr th:only-of-type {\n",
       "        vertical-align: middle;\n",
       "    }\n",
       "\n",
       "    .dataframe tbody tr th {\n",
       "        vertical-align: top;\n",
       "    }\n",
       "\n",
       "    .dataframe thead th {\n",
       "        text-align: right;\n",
       "    }\n",
       "</style>\n",
       "<table border=\"1\" class=\"dataframe\">\n",
       "  <thead>\n",
       "    <tr style=\"text-align: right;\">\n",
       "      <th></th>\n",
       "      <th>date</th>\n",
       "      <th>index_symbol</th>\n",
       "      <th>index_weight</th>\n",
       "      <th>ticker</th>\n",
       "      <th>name</th>\n",
       "      <th>seniority</th>\n",
       "      <th>sector</th>\n",
       "      <th>currency</th>\n",
       "      <th>doc_clause</th>\n",
       "      <th>cds_par_spread_5y</th>\n",
       "      <th>cds_recovery</th>\n",
       "    </tr>\n",
       "  </thead>\n",
       "  <tbody>\n",
       "    <tr>\n",
       "      <th>0</th>\n",
       "      <td>2023-05-12</td>\n",
       "      <td>CDX_CDXIG540</td>\n",
       "      <td>0.8</td>\n",
       "      <td>ABX</td>\n",
       "      <td>Barrick Gold Corp</td>\n",
       "      <td>SNRFOR</td>\n",
       "      <td>Basic Materials</td>\n",
       "      <td>USD</td>\n",
       "      <td>XR14</td>\n",
       "      <td>60.35</td>\n",
       "      <td>0.4</td>\n",
       "    </tr>\n",
       "    <tr>\n",
       "      <th>1</th>\n",
       "      <td>2023-05-12</td>\n",
       "      <td>CDX_CDXIG540</td>\n",
       "      <td>0.8</td>\n",
       "      <td>AEP</td>\n",
       "      <td>Amern Elec Pwr Co Inc</td>\n",
       "      <td>SNRFOR</td>\n",
       "      <td>Utilities</td>\n",
       "      <td>USD</td>\n",
       "      <td>XR14</td>\n",
       "      <td>50.29</td>\n",
       "      <td>0.4</td>\n",
       "    </tr>\n",
       "    <tr>\n",
       "      <th>2</th>\n",
       "      <td>2023-05-12</td>\n",
       "      <td>CDX_CDXIG540</td>\n",
       "      <td>0.8</td>\n",
       "      <td>AES</td>\n",
       "      <td>The AES Corp</td>\n",
       "      <td>SNRFOR</td>\n",
       "      <td>Utilities</td>\n",
       "      <td>USD</td>\n",
       "      <td>XR14</td>\n",
       "      <td>146.67</td>\n",
       "      <td>0.4</td>\n",
       "    </tr>\n",
       "    <tr>\n",
       "      <th>3</th>\n",
       "      <td>2023-05-12</td>\n",
       "      <td>CDX_CDXIG540</td>\n",
       "      <td>0.8</td>\n",
       "      <td>AIG</td>\n",
       "      <td>Amern Intl Gp Inc</td>\n",
       "      <td>SNRFOR</td>\n",
       "      <td>Financials</td>\n",
       "      <td>USD</td>\n",
       "      <td>XR14</td>\n",
       "      <td>105.26</td>\n",
       "      <td>0.4</td>\n",
       "    </tr>\n",
       "    <tr>\n",
       "      <th>4</th>\n",
       "      <td>2023-05-12</td>\n",
       "      <td>CDX_CDXIG540</td>\n",
       "      <td>0.8</td>\n",
       "      <td>ALL</td>\n",
       "      <td>Allstate Corp</td>\n",
       "      <td>SNRFOR</td>\n",
       "      <td>Financials</td>\n",
       "      <td>USD</td>\n",
       "      <td>XR14</td>\n",
       "      <td>37.82</td>\n",
       "      <td>0.4</td>\n",
       "    </tr>\n",
       "  </tbody>\n",
       "</table>\n",
       "</div>"
      ],
      "text/plain": [
       "        date  index_symbol  index_weight ticker                   name  \\\n",
       "0 2023-05-12  CDX_CDXIG540           0.8    ABX      Barrick Gold Corp   \n",
       "1 2023-05-12  CDX_CDXIG540           0.8    AEP  Amern Elec Pwr Co Inc   \n",
       "2 2023-05-12  CDX_CDXIG540           0.8    AES           The AES Corp   \n",
       "3 2023-05-12  CDX_CDXIG540           0.8    AIG      Amern Intl Gp Inc   \n",
       "4 2023-05-12  CDX_CDXIG540           0.8    ALL          Allstate Corp   \n",
       "\n",
       "  seniority           sector currency doc_clause  cds_par_spread_5y  \\\n",
       "0    SNRFOR  Basic Materials      USD       XR14              60.35   \n",
       "1    SNRFOR        Utilities      USD       XR14              50.29   \n",
       "2    SNRFOR        Utilities      USD       XR14             146.67   \n",
       "3    SNRFOR       Financials      USD       XR14             105.26   \n",
       "4    SNRFOR       Financials      USD       XR14              37.82   \n",
       "\n",
       "   cds_recovery  \n",
       "0           0.4  \n",
       "1           0.4  \n",
       "2           0.4  \n",
       "3           0.4  \n",
       "4           0.4  "
      ]
     },
     "execution_count": 9,
     "metadata": {},
     "output_type": "execute_result"
    }
   ],
   "source": [
    "cdx_basket_composition.head()"
   ]
  },
  {
   "cell_type": "code",
   "execution_count": 41,
   "id": "bfb5c427",
   "metadata": {},
   "outputs": [
    {
     "name": "stdout",
     "output_type": "stream",
     "text": [
      "Contractual specs and weights of each CDS:\n"
     ]
    },
    {
     "data": {
      "text/html": [
       "<div>\n",
       "<style scoped>\n",
       "    .dataframe tbody tr th:only-of-type {\n",
       "        vertical-align: middle;\n",
       "    }\n",
       "\n",
       "    .dataframe tbody tr th {\n",
       "        vertical-align: top;\n",
       "    }\n",
       "\n",
       "    .dataframe thead th {\n",
       "        text-align: right;\n",
       "    }\n",
       "</style>\n",
       "<table border=\"1\" class=\"dataframe\">\n",
       "  <thead>\n",
       "    <tr style=\"text-align: right;\">\n",
       "      <th></th>\n",
       "      <th>ticker</th>\n",
       "      <th>name</th>\n",
       "      <th>cds_recovery</th>\n",
       "      <th>index_weight</th>\n",
       "    </tr>\n",
       "  </thead>\n",
       "  <tbody>\n",
       "    <tr>\n",
       "      <th>0</th>\n",
       "      <td>BRK</td>\n",
       "      <td>Berkshire Hathaway Inc</td>\n",
       "      <td>0.4</td>\n",
       "      <td>0.8</td>\n",
       "    </tr>\n",
       "    <tr>\n",
       "      <th>1</th>\n",
       "      <td>JNJ</td>\n",
       "      <td>Johnson &amp; Johnson</td>\n",
       "      <td>0.4</td>\n",
       "      <td>0.8</td>\n",
       "    </tr>\n",
       "    <tr>\n",
       "      <th>2</th>\n",
       "      <td>MCD</td>\n",
       "      <td>McDONALDS Corp</td>\n",
       "      <td>0.4</td>\n",
       "      <td>0.8</td>\n",
       "    </tr>\n",
       "    <tr>\n",
       "      <th>3</th>\n",
       "      <td>HD</td>\n",
       "      <td>Home Depot Inc</td>\n",
       "      <td>0.4</td>\n",
       "      <td>0.8</td>\n",
       "    </tr>\n",
       "    <tr>\n",
       "      <th>4</th>\n",
       "      <td>CSX</td>\n",
       "      <td>CSX Corp</td>\n",
       "      <td>0.4</td>\n",
       "      <td>0.8</td>\n",
       "    </tr>\n",
       "    <tr>\n",
       "      <th>...</th>\n",
       "      <td>...</td>\n",
       "      <td>...</td>\n",
       "      <td>...</td>\n",
       "      <td>...</td>\n",
       "    </tr>\n",
       "    <tr>\n",
       "      <th>120</th>\n",
       "      <td>RDN</td>\n",
       "      <td>Radian Gp Inc</td>\n",
       "      <td>0.4</td>\n",
       "      <td>0.8</td>\n",
       "    </tr>\n",
       "    <tr>\n",
       "      <th>121</th>\n",
       "      <td>DXCTEC</td>\n",
       "      <td>DXC TECH CO</td>\n",
       "      <td>0.4</td>\n",
       "      <td>0.8</td>\n",
       "    </tr>\n",
       "    <tr>\n",
       "      <th>122</th>\n",
       "      <td>PARAMGL</td>\n",
       "      <td>Paramount Glob</td>\n",
       "      <td>0.4</td>\n",
       "      <td>0.8</td>\n",
       "    </tr>\n",
       "    <tr>\n",
       "      <th>123</th>\n",
       "      <td>LNC</td>\n",
       "      <td>Lincoln Natl Corp</td>\n",
       "      <td>0.4</td>\n",
       "      <td>0.8</td>\n",
       "    </tr>\n",
       "    <tr>\n",
       "      <th>124</th>\n",
       "      <td>ALLYFI</td>\n",
       "      <td>Ally Finl Inc</td>\n",
       "      <td>0.4</td>\n",
       "      <td>0.8</td>\n",
       "    </tr>\n",
       "  </tbody>\n",
       "</table>\n",
       "<p>125 rows × 4 columns</p>\n",
       "</div>"
      ],
      "text/plain": [
       "      ticker                    name  cds_recovery  index_weight\n",
       "0        BRK  Berkshire Hathaway Inc           0.4           0.8\n",
       "1        JNJ       Johnson & Johnson           0.4           0.8\n",
       "2        MCD          McDONALDS Corp           0.4           0.8\n",
       "3         HD          Home Depot Inc           0.4           0.8\n",
       "4        CSX                CSX Corp           0.4           0.8\n",
       "..       ...                     ...           ...           ...\n",
       "120      RDN           Radian Gp Inc           0.4           0.8\n",
       "121   DXCTEC             DXC TECH CO           0.4           0.8\n",
       "122  PARAMGL          Paramount Glob           0.4           0.8\n",
       "123      LNC       Lincoln Natl Corp           0.4           0.8\n",
       "124   ALLYFI           Ally Finl Inc           0.4           0.8\n",
       "\n",
       "[125 rows x 4 columns]"
      ]
     },
     "execution_count": 41,
     "metadata": {},
     "output_type": "execute_result"
    }
   ],
   "source": [
    "# Display contractual specs and weights of each CDS\n",
    "cds_specs_weights = cdx_basket_composition[['ticker', 'name', 'cds_recovery', 'index_weight']]\n",
    "cds_specs_weights.drop_duplicates(inplace=True)\n",
    "\n",
    "print(\"Contractual specs and weights of each CDS:\")\n",
    "cds_specs_weights"
   ]
  },
  {
   "cell_type": "code",
   "execution_count": 11,
   "id": "d5c7d6fb",
   "metadata": {},
   "outputs": [
    {
     "name": "stdout",
     "output_type": "stream",
     "text": [
      "Number of CDS contracts in the basket: 125\n"
     ]
    }
   ],
   "source": [
    "num_contracts = len(cdx_basket_composition)\n",
    "print(\"Number of CDS contracts in the basket:\", num_contracts)"
   ]
  },
  {
   "cell_type": "code",
   "execution_count": 12,
   "id": "74e0a9ee",
   "metadata": {},
   "outputs": [
    {
     "data": {
      "text/plain": [
       "count    125.000000\n",
       "mean      87.348720\n",
       "std       55.735455\n",
       "min       20.160000\n",
       "25%       48.640000\n",
       "50%       67.880000\n",
       "75%      109.850000\n",
       "max      337.710000\n",
       "Name: cds_par_spread_5y, dtype: float64"
      ]
     },
     "execution_count": 12,
     "metadata": {},
     "output_type": "execute_result"
    }
   ],
   "source": [
    "cdx_basket_composition['cds_par_spread_5y'].describe()"
   ]
  },
  {
   "cell_type": "code",
   "execution_count": 13,
   "id": "2f9e7521",
   "metadata": {},
   "outputs": [],
   "source": [
    "#sort the baset dataframe by cds par spread and plot the sorted par spreads\n",
    "cdx_basket_composition.sort_values(by='cds_par_spread_5y', inplace=True)\n",
    "cdx_basket_composition.reset_index(drop=True, inplace=True)"
   ]
  },
  {
   "cell_type": "code",
   "execution_count": 42,
   "id": "6148e94f",
   "metadata": {},
   "outputs": [
    {
     "data": {
      "image/png": "[encoded data removed]",
      "text/plain": [
       "<Figure size 1800x600 with 1 Axes>"
      ]
     },
     "metadata": {},
     "output_type": "display_data"
    }
   ],
   "source": [
    "# Use ggplot style\n",
    "plt.style.use('ggplot')\n",
    "\n",
    "# Create the figure and axis\n",
    "fig, ax = plt.subplots(figsize=(18, 6))\n",
    "\n",
    "# Create the bar chart\n",
    "ax.bar(cdx_basket_composition['ticker'], cdx_basket_composition['cds_par_spread_5y'], color='skyblue')\n",
    "\n",
    "# Label the axes and title\n",
    "ax.set_xlabel('CDS Ticker', fontsize=12)\n",
    "ax.set_ylabel('CDS Par Spread (bps)', fontsize=12)\n",
    "ax.set_title('CDX IG 5Y Series 40 - CDS Par Spreads', fontsize=14)\n",
    "\n",
    "# Rotate x-axis labels\n",
    "ax.set_xticklabels(cdx_basket_composition['ticker'], rotation=90)\n",
    "\n",
    "# Show grid\n",
    "ax.grid(True)\n",
    "\n",
    "# Display the plot\n",
    "plt.show()"
   ]
  },
  {
   "attachments": {},
   "cell_type": "markdown",
   "id": "30fcd104",
   "metadata": {},
   "source": [
    "## b. Calibrate the US SOFR yield curve (via bootstrapping)\n",
    "Load the `sofr_swap_symbology` Excel file into a dataframe.\n",
    "\n",
    "Load the `sofr_swaps_market_data_eod` Excel file into a dataframe. Print all dates available.\n",
    "\n",
    "Follow Homework 3, Problem 3 and calibrate the SOFR discount curve as of 2023-05-12. You can use the SOFR calibration function below."
   ]
  },
  {
   "cell_type": "code",
   "execution_count": 73,
   "id": "40de2f65",
   "metadata": {},
   "outputs": [
    {
     "name": "stdout",
     "output_type": "stream",
     "text": [
      "           figi          security       bid       ask  bid_yield  bid_yield\n",
      "0  BBG01GCWF1J0  T 3 7/8 04/30/25   99.7773   99.7891      3.994      3.994\n",
      "1  BBG01GJ2R1W1  T 3 5/8 05/15/26   99.9063   99.9141      3.658      3.658\n",
      "2  BBG01GCWDXL9  T 3 1/2 04/30/28  100.2344  100.2422      3.448      3.448\n",
      "3  BBG01GCWF002  T 3 1/2 04/30/30  100.2344  100.2969      3.462      3.462\n",
      "4  BBG01GJ2R4D6  T 3 3/8 05/15/33   99.2031   99.2656      3.470      3.470\n",
      "5  BBG01F6N6GN1  T 3 7/8 02/15/43   99.9063   99.9531      3.881      3.881\n",
      "6  BBG01GJ2QXX1  T 3 5/8 05/15/53   97.0156   97.0781      3.792      3.792\n"
     ]
    }
   ],
   "source": [
    "###################################################\n",
    "# Prepare the \"on-the-run\" US Treasury dataframe\n",
    "###################################################\n",
    "\n",
    "# govt_symbology_df\n",
    "govt_symbology_df = pd.read_excel('../data/govt_symbology.xlsx')\n",
    "govt_symbology_df.set_index('figi',inplace=True)\n",
    "\n",
    "# govt_otr_df\n",
    "govt_otr_df = pd.read_excel('../data/govt_on_the_run.xlsx')\n",
    "govt_otr_df.set_index('ticker',inplace=True)\n",
    "\n",
    "# filter for on_the_run_tsy_tickers\n",
    "on_the_run_tsy_tickers = ['GT2 Govt', 'GT3 Govt', 'GT5 Govt', 'GT7 Govt', 'GT10 Govt', 'GT20 Govt', 'GT30 Govt']\n",
    "on_the_run_tsy_figis = govt_otr_df.loc[on_the_run_tsy_tickers]['figi']\n",
    "\n",
    "# govt_otr_symbology_df\n",
    "govt_otr_symbology_df = govt_symbology_df.loc[on_the_run_tsy_figis]\n",
    "# print(govt_otr_symbology_df)\n",
    "\n",
    "# market_prices_df\n",
    "market_prices_df = pd.read_excel('../data/govt_market_prices_eod.xlsx')\n",
    "market_prices_df.set_index('date',inplace=True)\n",
    "\n",
    "# treasury_otr_df\n",
    "treasury_otr_df = govt_otr_symbology_df.merge(market_prices_df.loc[calc_date_str], how='left', on=['figi', 'class', 'ticker', 'isin'])\n",
    "treasury_otr_df.sort_values('maturity',inplace=True)\n",
    "print(treasury_otr_df[['figi', 'security', 'bid', 'ask', 'bid_yield', 'bid_yield']])"
   ]
  },
  {
   "cell_type": "code",
   "execution_count": 74,
   "id": "cba68c82",
   "metadata": {},
   "outputs": [
    {
     "name": "stdout",
     "output_type": "stream",
     "text": [
      "           figi                      name  mid_rate\n",
      "0  BBG00KFWPJJ9   USD OIS  ANN VS SOFR 1Y    4.6945\n",
      "1  BBG00KFWPJX3   USD OIS  ANN VS SOFR 2Y    3.9097\n",
      "2  BBG00KFWPK15   USD OIS  ANN VS SOFR 3Y    3.5265\n",
      "3  BBG00KFWPK51   USD OIS  ANN VS SOFR 5Y    3.2426\n",
      "4  BBG00KFWPK79   USD OIS  ANN VS SOFR 7Y    3.1750\n",
      "5  BBG00KFWPKB4  USD OIS  ANN VS SOFR 10Y    3.1800\n",
      "6  BBG00KFWPKF0  USD OIS  ANN VS SOFR 20Y    3.2160\n",
      "7  BBG00KFWPKH8  USD OIS  ANN VS SOFR 30Y    3.0673\n"
     ]
    }
   ],
   "source": [
    "###################################################\n",
    "# Load SOFR symbology and market data quotes\n",
    "###################################################\n",
    "\n",
    "# sofr_symbology_df\n",
    "sofr_symbology_df = pd.read_excel('../data/sofr_swaps_symbology.xlsx')\n",
    "\n",
    "# sofr_market_quotes_df\n",
    "sofr_market_quotes_df = pd.read_excel('../data/sofr_swaps_market_data_eod.xlsx')\n",
    "sofr_market_quotes_df.set_index('date',inplace=True)\n",
    "sofr_market_quotes_df.columns = ['figi', 'mid_rate']\n",
    "# print(sofr_market_quotes_df.tail())\n",
    "\n",
    "# sofr_df\n",
    "sofr_df = sofr_symbology_df.merge(sofr_market_quotes_df.loc[calc_date_str], how='left', on=['figi'])\n",
    "print(sofr_df[['figi', 'name', 'mid_rate']])"
   ]
  },
  {
   "cell_type": "code",
   "execution_count": 79,
   "id": "04d89c3d",
   "metadata": {},
   "outputs": [],
   "source": [
    "# tsy_yield_curve calibration\n",
    "tsy_yield_curve = calibrate_yield_curve_from_frame(calc_date, treasury_otr_df, 'mid_clean')\n",
    "tsy_yield_curve_handle = ql.YieldTermStructureHandle(tsy_yield_curve)\n",
    "\n",
    "\n",
    "# sofr_yield_curve calibration\n",
    "sofr_yield_curve = calibrate_sofr_curve_from_frame(calc_date, sofr_df, 'mid_rate')\n",
    "sofr_yield_curve_handle = ql.YieldTermStructureHandle(sofr_yield_curve)\n",
    "\n",
    "# hazard_rate_curve calibration\n",
    "cds_par_spreads = cdx_basket_composition['cds_par_spread_5y'].tolist()\n",
    "cds_recovery_rate = 0.4\n",
    "\n",
    "# hazard_rate_curve\n",
    "hazard_rate_curve = calibrate_cds_hazard_rate_curve(calc_date, sofr_yield_curve_handle, cds_par_spreads, cds_recovery_rate)\n",
    "default_prob_curve_handle = ql.DefaultProbabilityTermStructureHandle(hazard_rate_curve)"
   ]
  },
  {
   "cell_type": "code",
   "execution_count": 76,
   "id": "aa8491d6",
   "metadata": {},
   "outputs": [],
   "source": [
    "def get_yield_curve_details_df(yield_curve, curve_dates=None):\n",
    "    \n",
    "    if(curve_dates == None):\n",
    "        curve_dates = yield_curve.dates()\n",
    "\n",
    "    dates = [d.to_date() for d in curve_dates]\n",
    "    discounts = [round(yield_curve.discount(d), 3) for d in curve_dates]\n",
    "    yearfracs = [round(yield_curve.timeFromReference(d), 3) for d in curve_dates]\n",
    "    zeroRates = [round(yield_curve.zeroRate(d, yield_curve.dayCounter(), ql.Compounded).rate() * 100, 3) for d in curve_dates]\n",
    "\n",
    "    yield_curve_details_df = pd.DataFrame(data={'Date': dates,\n",
    "                             'YearFrac': yearfracs,\n",
    "                             'DiscountFactor': discounts,\n",
    "                             'ZeroRate': zeroRates})                             \n",
    "    return yield_curve_details_df"
   ]
  },
  {
   "cell_type": "code",
   "execution_count": 77,
   "id": "e8ff97c8",
   "metadata": {},
   "outputs": [],
   "source": [
    "# Display and plot SOFR yield curve\n",
    "grid_dates = [sofr_yield_curve.referenceDate() + ql.Period(y, ql.Years) for y in list(range(0,30,2))]\n",
    "\n",
    "\n",
    "sofr_yield_curve_simple_df = get_yield_curve_details_df(sofr_yield_curve)                  # using calibration grid\n",
    "sofr_yield_curve_details_df = get_yield_curve_details_df(sofr_yield_curve, grid_dates)    # using external grid\n",
    "\n",
    "# print(sofr_yield_curve_simple_df)\n",
    "# print(sofr_yield_curve_details_df)"
   ]
  },
  {
   "cell_type": "code",
   "execution_count": 78,
   "id": "a17d3742",
   "metadata": {},
   "outputs": [
    {
     "data": {
      "text/plain": [
       "Text(0.5, 0, 'Date')"
      ]
     },
     "execution_count": 78,
     "metadata": {},
     "output_type": "execute_result"
    },
    {
     "data": {
      "image/png": "[encoded data removed]",
      "text/plain": [
       "<Figure size 1800x600 with 1 Axes>"
      ]
     },
     "metadata": {},
     "output_type": "display_data"
    },
    {
     "data": {
      "image/png": "[encoded data removed]",
      "text/plain": [
       "<Figure size 1800x600 with 1 Axes>"
      ]
     },
     "metadata": {},
     "output_type": "display_data"
    }
   ],
   "source": [
    "# Plot the SOFR yield curve\n",
    "plt = sofr_yield_curve_details_df.plot(x='Date', y='ZeroRate', grid=True, style='*-', title='SOFR Curve: Zero Rates as of 2023-04-28', figsize=(18,6))\n",
    "plt.set_ylabel('Zero Rate (%)')\n",
    "plt.set_xlabel('Date')\n",
    "\n",
    "plt = sofr_yield_curve_details_df.plot(x='Date', y='DiscountFactor', grid=True, style='*-', title='SOFR Curve: Discount Factors as of 2023-04-28', figsize=(18,6))\n",
    "plt.set_ylabel('Discount Factors')\n",
    "plt.set_xlabel('Date')"
   ]
  },
  {
   "attachments": {},
   "cell_type": "markdown",
   "id": "1eb13b3a",
   "metadata": {},
   "source": [
    "## c. Compute the intrinsic Premium Leg PV of the CDX index basket\n",
    "\n",
    "For each instrument in the basket, create the CDS object and calibrate the corresponding hazard rate / survival probability curve.\n",
    "\n",
    "Compute the Premium Leg PV for each CDS and determine the intrinsic Premium Leg PV of the basket (using basket weights)."
   ]
  },
  {
   "cell_type": "code",
   "execution_count": 80,
   "id": "68d0de0b",
   "metadata": {},
   "outputs": [],
   "source": [
    "cds_start_date = ql.Date(12,5,2023)\n",
    "#get the maturity date from the cdx_540 dictionary 'maturity' and convert it to a ql.Date object\n",
    "cdx_mat_date = ql.Date(20,6,2028)\n",
    "def create_cds_objects(details:dict, cds_start_date:ql.Date, cds_maturity_date:ql.Date, default_prob_curve_handle:ql.DefaultProbabilityTermStructureHandle, sofr_yield_curve_handle:ql.YieldTermStructureHandle):\n",
    "    # CDS specs\n",
    "    side = ql.Protection.Seller\n",
    "    \n",
    "    CDS_recovery_rate = 0.4\n",
    "\n",
    "    face_notional = 100\n",
    "\n",
    "    contractual_spread = details['cds_par_spread_5y'] / 10000.0\n",
    "    \n",
    "    # Create CDS schedule\n",
    "    cds_schedule = ql.MakeSchedule(cds_start_date, cds_maturity_date, ql.Period('3M'),\n",
    "                            ql.Quarterly, ql.TARGET(), ql.Following, ql.Unadjusted, ql.DateGeneration.TwentiethIMM)\n",
    "    \n",
    "    # Create CDS object\n",
    "    cds_obj = ql.CreditDefaultSwap(side, face_notional, contractual_spread, cds_schedule, ql.Following, ql.Actual360())\n",
    "    \n",
    "    cds_engine = ql.MidPointCdsEngine(default_prob_curve_handle, CDS_recovery_rate, sofr_yield_curve_handle)\n",
    "    cds_obj.setPricingEngine(cds_engine)\n",
    "    \n",
    "    return cds_obj"
   ]
  },
  {
   "cell_type": "code",
   "execution_count": 81,
   "id": "c2cded32",
   "metadata": {},
   "outputs": [],
   "source": [
    "# Premium leg PV\n",
    "premium_pv = []\n",
    "default_pv = []\n",
    "\n",
    "# Go through each CDS in the basket\n",
    "for index, row in cdx_basket_composition.iterrows():\n",
    "    cds_obj = create_cds_objects(row, cds_start_date, cdx_mat_date, default_prob_curve_handle, sofr_yield_curve_handle)\n",
    "    premium_pv.append(cds_obj.couponLegNPV())\n",
    "    default_pv.append(cds_obj.defaultLegNPV())\n",
    "    \n",
    "cdx_basket_composition['premium_pv'] = premium_pv\n",
    "cdx_basket_composition['default_pv'] = default_pv\n",
    "    "
   ]
  },
  {
   "cell_type": "code",
   "execution_count": 35,
   "id": "19e852da",
   "metadata": {},
   "outputs": [],
   "source": [
    "cdx_basket = cdx_basket_composition[['index_weight', 'ticker', 'cds_par_spread_5y', 'default_pv', 'premium_pv']]"
   ]
  },
  {
   "cell_type": "code",
   "execution_count": 38,
   "id": "aa9e578b",
   "metadata": {},
   "outputs": [
    {
     "name": "stdout",
     "output_type": "stream",
     "text": [
      "Premium Leg PV of the basket (mean):  4.069967385693602\n"
     ]
    }
   ],
   "source": [
    "# Compute the intrinsic Premium Leg PV of the basket using the basekt weights\n",
    "cdx_basket['premium_pv_weighted'] = cdx_basket['premium_pv'] * cdx_basket['index_weight'] /100\n",
    "\n",
    "print('Premium Leg PV of the basket (mean): ', cdx_basket['premium_pv_weighted'].sum())"
   ]
  },
  {
   "attachments": {},
   "cell_type": "markdown",
   "id": "d9706e38",
   "metadata": {},
   "source": [
    "## d. Compute the intrinsic Default Leg PV of the CDX index basket\n",
    "\n",
    "Compute the Default Leg PV for each CDS and determine the intrinsic Default Leg PV of the basket (using basket weights)."
   ]
  },
  {
   "cell_type": "code",
   "execution_count": 39,
   "id": "cb1b04ed",
   "metadata": {},
   "outputs": [
    {
     "name": "stdout",
     "output_type": "stream",
     "text": [
      "Deafult Leg PV of the basket weighted (mean):  -1.5932006260909328\n"
     ]
    }
   ],
   "source": [
    "# Compute the intrinsic Premium Leg PV of the basket using the basekt weights\n",
    "cdx_basket['default_pv_weighted'] = cdx_basket['default_pv'] * cdx_basket['index_weight'] /100\n",
    "\n",
    "print('Deafult Leg PV of the basket weighted (mean): ', cdx_basket['default_pv_weighted'].sum())"
   ]
  },
  {
   "attachments": {},
   "cell_type": "markdown",
   "id": "f44e3443",
   "metadata": {},
   "source": [
    "## e. Compute the intrinsic PV and Par Spread of the CDX index basket\n",
    "\n",
    "Compute the intrinsic index PV. \n",
    "\n",
    "Compute the CDX instrinsic index Par Spread (using ratio of CDX default vs premium legs)."
   ]
  },
  {
   "cell_type": "code",
   "execution_count": 40,
   "id": "c159de8a",
   "metadata": {},
   "outputs": [
    {
     "name": "stdout",
     "output_type": "stream",
     "text": [
      "Index PV (mean):  2.476766759602669\n",
      "Index Par Spread (bps):  -3914.529221268982\n"
     ]
    }
   ],
   "source": [
    "# Compute the intrinsic index PV\n",
    "print('Index PV (mean): ', cdx_basket['premium_pv_weighted'].sum() + cdx_basket['default_pv_weighted'].sum())\n",
    "\n",
    "# Compute the intrinsic index Par spread using ratio of CDX default leg PV to premium leg PV\n",
    "print('Index Par Spread (bps): ', cdx_basket['default_pv_weighted'].sum() / cdx_basket['premium_pv_weighted'].sum() * 10000)"
   ]
  },
  {
   "attachments": {},
   "cell_type": "markdown",
   "id": "b7c42c12",
   "metadata": {},
   "source": [
    "# Problem 5: Credit ETF analysis on HYG"
   ]
  },
  {
   "attachments": {},
   "cell_type": "markdown",
   "id": "61d843a8",
   "metadata": {},
   "source": [
    "## a. Load and explore the HYG basket composition and market data\n",
    "\n",
    "Load the `hyg_basket_composition` Excel file into a dataframe. It contains the HYG basket constituent face notionals, weights and yields-to-maturities as of 2023-05-12.\n",
    "\n",
    "Load the `hyg_corp_symbology` Excel file into a dataframe. It contains the corporate bond details for HYG constituents.\n",
    "\n",
    "How many corporate bonds are in the HYG basket?  What are the average and median face notionals for a bond?\n",
    "\n",
    "How many unique tickers are in the HYG basket? What are the average and median face notionals for a ticker?\n",
    "\n",
    "Compute mean, median and standard deviation of yields-to-maturity of bonds in the basket."
   ]
  },
  {
   "cell_type": "code",
   "execution_count": 57,
   "id": "539e9816",
   "metadata": {},
   "outputs": [
    {
     "name": "stdout",
     "output_type": "stream",
     "text": [
      "There are 1200 bonds in the HYG basket.\n",
      "The average bond face notional is $13.67M.\n",
      "The average bond face notional is $11.40M.\n"
     ]
    }
   ],
   "source": [
    "hyg_basket_composition = pd.read_excel('../data/hyg_basket_composition.xlsx')\n",
    "hyg_corp_symbology = pd.read_excel('../data/hyg_corp_symbology.xlsx')\n",
    "\n",
    "print(f\"There are {hyg_basket_composition['isin'].unique().size} bonds in the HYG basket.\")\n",
    "print(f\"The average bond face notional is ${'{:.2f}'.format(hyg_basket_composition['face_notional'].mean()/1e6)}M.\")\n",
    "print(f\"The average bond face notional is ${'{:.2f}'.format(hyg_basket_composition['face_notional'].median()/1e6)}M.\")"
   ]
  },
  {
   "cell_type": "code",
   "execution_count": 58,
   "id": "273b7455",
   "metadata": {},
   "outputs": [],
   "source": [
    "hyg_df = hyg_basket_composition.merge(hyg_corp_symbology, on='isin', suffixes=('', '_sym'))"
   ]
  },
  {
   "cell_type": "code",
   "execution_count": 82,
   "id": "1c2683a4",
   "metadata": {},
   "outputs": [
    {
     "name": "stdout",
     "output_type": "stream",
     "text": [
      "The number of tickers in the HYG basket is 417\n",
      "The average face notional per ticker (sum) in the HYG basket is $39326089\n",
      "The median face notional per ticker (sum) in the HYG basket is $27703000\n"
     ]
    }
   ],
   "source": [
    "print(f'The number of tickers in the HYG basket is {len(hyg_df.ticker.unique())}')\n",
    "print(f'The average face notional per ticker (sum) in the HYG basket is ${round(hyg_df.groupby(\"ticker\")[\"face_notional\"].sum().mean())}')\n",
    "print(f'The median face notional per ticker (sum) in the HYG basket is ${round(hyg_df.groupby(\"ticker\")[\"face_notional\"].sum().median())}')"
   ]
  },
  {
   "cell_type": "code",
   "execution_count": 60,
   "id": "0cc4c199",
   "metadata": {},
   "outputs": [
    {
     "name": "stdout",
     "output_type": "stream",
     "text": [
      "The average yield-to-maturity of bonds in the HYG basket is 8.76%\n",
      "The median yield-to-maturity of bonds in the HYG basket is 7.29%\n",
      "The standard deviation of yield-to-maturity of bonds in the HYG basket is 5.03%\n"
     ]
    }
   ],
   "source": [
    "#Compute mean, median and standard deviation of yields-to-maturity of bonds in the basket.\n",
    "print(f'The average yield-to-maturity of bonds in the HYG basket is {round(hyg_df[\"yield_to_maturity\"].mean(),2)}%')\n",
    "print(f'The median yield-to-maturity of bonds in the HYG basket is {round(hyg_df[\"yield_to_maturity\"].median(),2)}%')\n",
    "print(f'The standard deviation of yield-to-maturity of bonds in the HYG basket is {round(hyg_df[\"yield_to_maturity\"].std(),2)}%')"
   ]
  },
  {
   "attachments": {},
   "cell_type": "markdown",
   "id": "06f2e605",
   "metadata": {},
   "source": [
    "## b. Compute the NAV of the HYG basket and the intrinsic price of one ETF share.\n",
    "\n",
    "Create the bond objects for all constituents of HYG. Compute the dirty price for each bond (from yield-to-maturity).\n",
    "\n",
    "Aggregate the ETF NAV value (intrisic value of bond basket) as the weighted sum of dirty prices times basket weights. Keep in mind that the resulting ETF NAV will be on a face of $100, since the basket face notional weights add up to 100 percent.\n",
    "\n",
    "Compute the intrinisc market capitalization of the HYG ETF by scaling the ETF NAV price to the ETF total face notional. \n",
    "\n",
    "Divide by 195,800,000 (the number of ETF shared outstanding as of 2023-05-12) to obtain the intrinsic price of one HYG ETF share."
   ]
  },
  {
   "cell_type": "code",
   "execution_count": 61,
   "id": "21d65925",
   "metadata": {},
   "outputs": [],
   "source": [
    "shares_outstanding = 195_800_000\n",
    "    "
   ]
  },
  {
   "cell_type": "code",
   "execution_count": 62,
   "id": "44eb08d1",
   "metadata": {},
   "outputs": [],
   "source": [
    "def calculate_dirty_price(hyg_df, calc_date=ql.Date.todaysDate()):\n",
    "    for i in hyg_df.index:\n",
    "        row = hyg_df.loc[i]\n",
    "\n",
    "        bond = create_bond_from_symbology(row)\n",
    "        hyg_df.loc[i,'bond_obj'] = bond\n",
    "\n",
    "        flat_rate = ql.SimpleQuote(row['yield_to_maturity'] / 100)\n",
    "        rate_handle = ql.QuoteHandle(flat_rate)\n",
    "\n",
    "        day_count = ql.Actual360()\n",
    "        calendar = ql.UnitedStates(ql.UnitedStates.GovernmentBond)\n",
    "        continuous_comp = ql.Continuous \n",
    "\n",
    "        flat_yield_curve = ql.FlatForward(calc_date, rate_handle, day_count, continuous_comp)\n",
    "        flat_yield_curve_handle = ql.YieldTermStructureHandle(flat_yield_curve)\n",
    "\n",
    "        bond_engine = ql.DiscountingBondEngine(flat_yield_curve_handle)\n",
    "        bond.setPricingEngine(bond_engine)\n",
    "\n",
    "        hyg_df.loc[i, 'dirty_price'] = bond.dirtyPrice()\n",
    "    return hyg_df\n"
   ]
  },
  {
   "cell_type": "code",
   "execution_count": 63,
   "id": "c9f45b24",
   "metadata": {},
   "outputs": [],
   "source": [
    "hyg_df = calculate_dirty_price(hyg_df, calc_date)"
   ]
  },
  {
   "cell_type": "code",
   "execution_count": 64,
   "id": "5facfebd",
   "metadata": {},
   "outputs": [
    {
     "data": {
      "text/html": [
       "<div>\n",
       "<style scoped>\n",
       "    .dataframe tbody tr th:only-of-type {\n",
       "        vertical-align: middle;\n",
       "    }\n",
       "\n",
       "    .dataframe tbody tr th {\n",
       "        vertical-align: top;\n",
       "    }\n",
       "\n",
       "    .dataframe thead th {\n",
       "        text-align: right;\n",
       "    }\n",
       "</style>\n",
       "<table border=\"1\" class=\"dataframe\">\n",
       "  <thead>\n",
       "    <tr style=\"text-align: right;\">\n",
       "      <th></th>\n",
       "      <th>ticker</th>\n",
       "      <th>yield_to_maturity</th>\n",
       "      <th>face_notional</th>\n",
       "      <th>dirty_price</th>\n",
       "    </tr>\n",
       "  </thead>\n",
       "  <tbody>\n",
       "    <tr>\n",
       "      <th>0</th>\n",
       "      <td>TDG</td>\n",
       "      <td>6.37</td>\n",
       "      <td>67227000</td>\n",
       "      <td>100.232026</td>\n",
       "    </tr>\n",
       "    <tr>\n",
       "      <th>1</th>\n",
       "      <td>MEDIND</td>\n",
       "      <td>6.60</td>\n",
       "      <td>70852000</td>\n",
       "      <td>86.467660</td>\n",
       "    </tr>\n",
       "    <tr>\n",
       "      <th>2</th>\n",
       "      <td>TIBX</td>\n",
       "      <td>9.00</td>\n",
       "      <td>64161000</td>\n",
       "      <td>88.160926</td>\n",
       "    </tr>\n",
       "    <tr>\n",
       "      <th>3</th>\n",
       "      <td>DISH</td>\n",
       "      <td>13.37</td>\n",
       "      <td>56232000</td>\n",
       "      <td>92.550773</td>\n",
       "    </tr>\n",
       "    <tr>\n",
       "      <th>4</th>\n",
       "      <td>AAL</td>\n",
       "      <td>6.22</td>\n",
       "      <td>56469000</td>\n",
       "      <td>97.982263</td>\n",
       "    </tr>\n",
       "    <tr>\n",
       "      <th>...</th>\n",
       "      <td>...</td>\n",
       "      <td>...</td>\n",
       "      <td>...</td>\n",
       "      <td>...</td>\n",
       "    </tr>\n",
       "    <tr>\n",
       "      <th>1195</th>\n",
       "      <td>WFRD</td>\n",
       "      <td>8.87</td>\n",
       "      <td>201000</td>\n",
       "      <td>107.510949</td>\n",
       "    </tr>\n",
       "    <tr>\n",
       "      <th>1196</th>\n",
       "      <td>SIX</td>\n",
       "      <td>6.41</td>\n",
       "      <td>103000</td>\n",
       "      <td>103.358291</td>\n",
       "    </tr>\n",
       "    <tr>\n",
       "      <th>1197</th>\n",
       "      <td>LUMN</td>\n",
       "      <td>22.69</td>\n",
       "      <td>200000</td>\n",
       "      <td>43.482350</td>\n",
       "    </tr>\n",
       "    <tr>\n",
       "      <th>1198</th>\n",
       "      <td>DBD</td>\n",
       "      <td>50.00</td>\n",
       "      <td>381000</td>\n",
       "      <td>30.422764</td>\n",
       "    </tr>\n",
       "    <tr>\n",
       "      <th>1199</th>\n",
       "      <td>BHCCN</td>\n",
       "      <td>26.60</td>\n",
       "      <td>3000</td>\n",
       "      <td>56.518491</td>\n",
       "    </tr>\n",
       "  </tbody>\n",
       "</table>\n",
       "<p>1200 rows × 4 columns</p>\n",
       "</div>"
      ],
      "text/plain": [
       "      ticker  yield_to_maturity  face_notional  dirty_price\n",
       "0        TDG               6.37       67227000   100.232026\n",
       "1     MEDIND               6.60       70852000    86.467660\n",
       "2       TIBX               9.00       64161000    88.160926\n",
       "3       DISH              13.37       56232000    92.550773\n",
       "4        AAL               6.22       56469000    97.982263\n",
       "...      ...                ...            ...          ...\n",
       "1195    WFRD               8.87         201000   107.510949\n",
       "1196     SIX               6.41         103000   103.358291\n",
       "1197    LUMN              22.69         200000    43.482350\n",
       "1198     DBD              50.00         381000    30.422764\n",
       "1199   BHCCN              26.60           3000    56.518491\n",
       "\n",
       "[1200 rows x 4 columns]"
      ]
     },
     "execution_count": 64,
     "metadata": {},
     "output_type": "execute_result"
    }
   ],
   "source": [
    "hyg_df[['ticker', 'yield_to_maturity', 'face_notional','dirty_price']]"
   ]
  },
  {
   "cell_type": "code",
   "execution_count": 65,
   "id": "7c86cbbe",
   "metadata": {},
   "outputs": [
    {
     "name": "stdout",
     "output_type": "stream",
     "text": [
      "The total asset value of the HYG ETF is $14550779498.84\n",
      "The NAV of the HYG ETF is $74.31\n",
      "The closing price as per the Bloomberg terminal is $74.42 as on 05/12\n"
     ]
    }
   ],
   "source": [
    "total_asset = (hyg_df['dirty_price'] * hyg_df['face_notional']).sum() / 100\n",
    "nav_today = total_asset / shares_outstanding\n",
    "\n",
    "\n",
    "print(f'The total asset value of the HYG ETF is ${round(total_asset,2)}')\n",
    "print(f'The NAV of the HYG ETF is ${round(nav_today,2)}')\n",
    "print(f'The closing price as per the Bloomberg terminal is $74.42 as on 05/12')"
   ]
  },
  {
   "attachments": {},
   "cell_type": "markdown",
   "id": "0ab41951",
   "metadata": {},
   "source": [
    "## c. Compute the ETF yield using the ACF (Aggregated Cash-Flows) method\n",
    "\n",
    "Create the bond objects for all constituents of HYG. \n",
    "\n",
    "Write a function that computes the ETF NAV for a given flat yield y.\n",
    "\n",
    "Solve for \n",
    "\n",
    "ETF_NAV(yield) = ETF_NAV_Price \n",
    "\n",
    "to obtain the ETF yield.\n",
    "\n",
    "\n",
    "\n"
   ]
  },
  {
   "cell_type": "code",
   "execution_count": 66,
   "id": "db0f2319",
   "metadata": {},
   "outputs": [],
   "source": [
    "def calculate_etf_nav(flat_yield):\n",
    "    day_count = ql.Actual360()\n",
    "    calendar = ql.UnitedStates(ql.UnitedStates.GovernmentBond)\n",
    "    continuous_comp = ql.Continuous\n",
    "\n",
    "    rate_handle = ql.QuoteHandle(ql.SimpleQuote(flat_yield))\n",
    "    flat_yield_curve = ql.FlatForward(calc_date, rate_handle, day_count, continuous_comp)\n",
    "    flat_yield_curve_handle = ql.YieldTermStructureHandle(flat_yield_curve)\n",
    "    bond_engine = ql.DiscountingBondEngine(flat_yield_curve_handle)\n",
    "\n",
    "    hyg_df['bond_obj'].apply(lambda bond: bond.setPricingEngine(bond_engine))\n",
    "    hyg_df['dirty_price_flat_yield'] = hyg_df['bond_obj'].apply(lambda bond: bond.dirtyPrice())\n",
    "\n",
    "    total_assets = (hyg_df['dirty_price_flat_yield'] * hyg_df['face_notional']).sum() / 100\n",
    "    return total_assets / shares_outstanding\n"
   ]
  },
  {
   "cell_type": "code",
   "execution_count": 67,
   "id": "c9011b6d",
   "metadata": {},
   "outputs": [],
   "source": [
    "def re_func(flat_yield, nav):\n",
    "    return calculate_etf_nav(flat_yield) - nav"
   ]
  },
  {
   "cell_type": "code",
   "execution_count": 68,
   "id": "d2a8a614",
   "metadata": {},
   "outputs": [
    {
     "name": "stdout",
     "output_type": "stream",
     "text": [
      "The flat yield that will make the NAV of the ETF equal to the market price is 8.391%\n"
     ]
    }
   ],
   "source": [
    "#minimizeing the function re_func to find the flat yield that will make the NAV of the ETF equal to the market price\n",
    "from scipy import optimize\n",
    "\n",
    "flat_yield = optimize.newton(re_func, 0.05, args=(nav_today,))\n",
    "\n",
    "print(f'The flat yield that will make the NAV of the ETF equal to the market price is {round(flat_yield*100,3)}%')"
   ]
  },
  {
   "attachments": {},
   "cell_type": "markdown",
   "id": "4f762792",
   "metadata": {},
   "source": [
    "## d. Compute the ETF DV01, Duration and Convexity\n",
    "\n",
    "Treat the ETF basket as a synthetic bond.\n",
    "\n",
    "Use +/- 1 bp scenarios in ETF yield space to compute the ETF DV01, Duration and Convexity.\n"
   ]
  },
  {
   "cell_type": "code",
   "execution_count": 69,
   "id": "143970af",
   "metadata": {},
   "outputs": [],
   "source": [
    "#Lets calculate the scenario bumps to get the DV01 of the ETF\n",
    "nav_func = calculate_etf_nav(flat_yield)\n",
    "\n",
    "nav_up_1bp = calculate_etf_nav(flat_yield + 0.0001)\n",
    "nav_down_1bp = calculate_etf_nav(flat_yield - 0.0001)"
   ]
  },
  {
   "cell_type": "code",
   "execution_count": 70,
   "id": "d75533d2",
   "metadata": {},
   "outputs": [
    {
     "name": "stdout",
     "output_type": "stream",
     "text": [
      "The DV01 of the ETF is 3.227\n",
      "The duration of the ETF is 4.342\n",
      "The gamma of the ETF is 18.86\n",
      "The convexity of the ETF is 25.3852\n"
     ]
    }
   ],
   "source": [
    "dv01 = (nav_down_1bp - nav_func) * 100\n",
    "print(f'The DV01 of the ETF is {round(dv01,3)}')\n",
    "duration = dv01 / nav_func* 100\n",
    "print(f'The duration of the ETF is {round(duration,3)}')\n",
    "gamma = (nav_down_1bp + nav_up_1bp - 2 * nav_func) * 1000000\n",
    "print(f'The gamma of the ETF is {round(gamma,2)}')\n",
    "convexity = round(gamma / nav_func * 100, 4)\n",
    "\n",
    "print(f'The convexity of the ETF is {convexity}')\n"
   ]
  },
  {
   "attachments": {},
   "cell_type": "markdown",
   "id": "ce267203",
   "metadata": {},
   "source": [
    "## e. Compute the ETF z-spread\n",
    "\n",
    "Load and calibrate the US Treasury discount curve as of 2023-05-12. Follow Homework 2, Problem 2.\n",
    "\n",
    "Write a function that computes the ETF NAV for a given flat z-spread (parallel shift on the top of the US Treasury yield curve)\n",
    "\n",
    "Solve for \n",
    "\n",
    "ETF_NAV(z-spread) = ETF_NAV_Price \n",
    "\n",
    "to obtain the ETF z-spread.\n",
    "\n",
    "Use Section 9 \"Analytical Duration, Convexity and Z-Spread\" of the QuantLib as a template for applying the flat z-spread to the US Treasury yield curve."
   ]
  },
  {
   "cell_type": "code",
   "execution_count": 85,
   "id": "2bd91859",
   "metadata": {},
   "outputs": [],
   "source": [
    "# Write a function that computes the ETF NAV for a given flat z-spread (parallel shift on the top of the US Treasury yield curve)\n",
    "def calculate_etf_nav(flat_z_spread,tsy_yield_curve_handle):\n",
    "\n",
    "    rate_handle = ql.QuoteHandle(ql.SimpleQuote(flat_z_spread))\n",
    "    tsy_yield_curve = ql.ZeroSpreadedTermStructure(tsy_yield_curve_handle, rate_handle)\n",
    "    tsy_yield_curve.enableExtrapolation()\n",
    "    tsy_yield_curve_handle = ql.YieldTermStructureHandle(tsy_yield_curve)\n",
    "    bond_engine = ql.DiscountingBondEngine(tsy_yield_curve_handle)\n",
    "\n",
    "    hyg_df['bond_obj'].apply(lambda bond: bond.setPricingEngine(bond_engine))\n",
    "    hyg_df['dirty_price_flat_z_spread'] = hyg_df['bond_obj'].apply(lambda bond: bond.dirtyPrice())\n",
    "\n",
    "    total_assets = (hyg_df['dirty_price_flat_z_spread'] * hyg_df['face_notional']).sum() / 100\n",
    "    return total_assets / shares_outstanding"
   ]
  },
  {
   "cell_type": "code",
   "execution_count": 86,
   "id": "736fb1d5",
   "metadata": {},
   "outputs": [],
   "source": [
    "def res_func(flat_z_spread, nav):\n",
    "    return calculate_etf_nav(flat_z_spread,tsy_yield_curve_handle) - nav"
   ]
  },
  {
   "cell_type": "code",
   "execution_count": 87,
   "id": "22e5cb6b",
   "metadata": {},
   "outputs": [
    {
     "name": "stdout",
     "output_type": "stream",
     "text": [
      "The z-spread that will make the NAV of the ETF equal to the market price is 0.05029\n"
     ]
    }
   ],
   "source": [
    "z_spread = optimize.newton(res_func, 0.05, args=(nav_today,))\n",
    "\n",
    "print(f'The z-spread that will make the NAV of the ETF equal to the market price is {round(z_spread,5)}')"
   ]
  }
 ],
 "metadata": {
  "hide_input": false,
  "kernelspec": {
   "display_name": "Python 3 (ipykernel)",
   "language": "python",
   "name": "python3"
  },
  "language_info": {
   "codemirror_mode": {
    "name": "ipython",
    "version": 3
   },
   "file_extension": ".py",
   "mimetype": "text/x-python",
   "name": "python",
   "nbconvert_exporter": "python",
   "pygments_lexer": "ipython3",
   "version": "3.9.6"
  }
 },
 "nbformat": 4,
 "nbformat_minor": 5
}
