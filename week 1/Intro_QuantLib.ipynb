{
 "cells": [
  {
   "attachments": {},
   "cell_type": "markdown",
   "metadata": {},
   "source": [
    "# Basic Usage of QuantLib analytics library\n",
    "More details at:\n",
    "https://quantlib-python-docs.readthedocs.io/en/latest/"
   ]
  },
  {
   "cell_type": "code",
   "execution_count": 24,
   "metadata": {
    "ExecuteTime": {
     "end_time": "2020-09-08T22:40:10.673242Z",
     "start_time": "2020-09-08T22:40:10.280272Z"
    }
   },
   "outputs": [],
   "source": [
    "import QuantLib as ql\n",
    "import numpy as np\n",
    "import pandas as pd"
   ]
  },
  {
   "attachments": {},
   "cell_type": "markdown",
   "metadata": {},
   "source": [
    "## 1. Objects and Handles\n",
    "### Define a quote object and inspect the value."
   ]
  },
  {
   "cell_type": "code",
   "execution_count": 25,
   "metadata": {
    "ExecuteTime": {
     "end_time": "2020-09-08T22:40:10.691095Z",
     "start_time": "2020-09-08T22:40:10.681145Z"
    }
   },
   "outputs": [
    {
     "data": {
      "text/plain": [
       "0.01"
      ]
     },
     "execution_count": 25,
     "metadata": {},
     "output_type": "execute_result"
    }
   ],
   "source": [
    "quote = ql.SimpleQuote(.01)\n",
    "quote.value()"
   ]
  },
  {
   "attachments": {},
   "cell_type": "markdown",
   "metadata": {},
   "source": [
    "### Use setValue() to reset values. Values will be propagated downstream in the dependency tree (using handles/smart pointers)."
   ]
  },
  {
   "cell_type": "code",
   "execution_count": 26,
   "metadata": {
    "ExecuteTime": {
     "end_time": "2020-09-08T22:40:10.699818Z",
     "start_time": "2020-09-08T22:40:10.693324Z"
    }
   },
   "outputs": [
    {
     "data": {
      "text/plain": [
       "0.02"
      ]
     },
     "execution_count": 26,
     "metadata": {},
     "output_type": "execute_result"
    }
   ],
   "source": [
    "quote.setValue(.02)\n",
    "quote.value()"
   ]
  },
  {
   "attachments": {},
   "cell_type": "markdown",
   "metadata": {},
   "source": [
    "### Define quoteHandle as a handle/smart pointer to the quote object."
   ]
  },
  {
   "cell_type": "code",
   "execution_count": 27,
   "metadata": {
    "ExecuteTime": {
     "end_time": "2020-09-08T22:40:10.706852Z",
     "start_time": "2020-09-08T22:40:10.701861Z"
    }
   },
   "outputs": [
    {
     "data": {
      "text/plain": [
       "0.02"
      ]
     },
     "execution_count": 27,
     "metadata": {},
     "output_type": "execute_result"
    }
   ],
   "source": [
    "quoteHandle = ql.QuoteHandle(quote)\n",
    "quoteHandle.value()"
   ]
  },
  {
   "attachments": {},
   "cell_type": "markdown",
   "metadata": {},
   "source": [
    "### When the quote object is changed, the quoteHandle changes value as well."
   ]
  },
  {
   "cell_type": "code",
   "execution_count": 28,
   "metadata": {
    "ExecuteTime": {
     "end_time": "2020-09-08T22:40:10.714410Z",
     "start_time": "2020-09-08T22:40:10.708750Z"
    }
   },
   "outputs": [
    {
     "data": {
      "text/plain": [
       "0.05"
      ]
     },
     "execution_count": 28,
     "metadata": {},
     "output_type": "execute_result"
    }
   ],
   "source": [
    "quote.setValue(0.05)\n",
    "quoteHandle.value()"
   ]
  },
  {
   "attachments": {},
   "cell_type": "markdown",
   "metadata": {},
   "source": [
    "## 2. Cashflow Schedules\n",
    "### Construct a semi-annual fixed rate cashflow schedule object."
   ]
  },
  {
   "cell_type": "code",
   "execution_count": 29,
   "metadata": {
    "ExecuteTime": {
     "end_time": "2020-09-08T22:40:10.734463Z",
     "start_time": "2020-09-08T22:40:10.729637Z"
    }
   },
   "outputs": [],
   "source": [
    "issue_date = ql.Date(17, 12, 2022)\n",
    "maturity_date = ql.Date(17, 12, 2027)\n",
    "coupon_freq = ql.Semiannual\n",
    "coupon_term = ql.Period(coupon_freq)\n",
    "calendar = ql.UnitedStates(ql.UnitedStates.GovernmentBond)\n",
    "day_count_conv = ql.Unadjusted\n",
    "date_generation = ql.DateGeneration.Backward\n",
    "month_end = False\n",
    "schedule = ql.Schedule(issue_date,\n",
    "                       maturity_date,\n",
    "                       coupon_term,\n",
    "                       calendar,\n",
    "                       day_count_conv,\n",
    "                       day_count_conv,\n",
    "                       date_generation,\n",
    "                       month_end)"
   ]
  },
  {
   "attachments": {},
   "cell_type": "markdown",
   "metadata": {},
   "source": [
    "### Inspect the cashflow schedule\n",
    "- Use list() to get a list of all the dates in Schedule, and len() to get number of dates\n",
    "- Use [] for random access\n",
    "- use startDate(), endDate()"
   ]
  },
  {
   "cell_type": "code",
   "execution_count": 30,
   "metadata": {
    "ExecuteTime": {
     "end_time": "2020-09-08T22:40:10.746174Z",
     "start_time": "2020-09-08T22:40:10.736892Z"
    },
    "tags": []
   },
   "outputs": [
    {
     "name": "stdout",
     "output_type": "stream",
     "text": [
      "All dates:  [Date(17,12,2022), Date(17,6,2023), Date(17,12,2023), Date(17,6,2024), Date(17,12,2024), Date(17,6,2025), Date(17,12,2025), Date(17,6,2026), Date(17,12,2026), Date(17,6,2027), Date(17,12,2027)]\n",
      "Length:  11\n",
      "The 3rd coupon date:  June 17th, 2024\n",
      "Start Date:  December 17th, 2022\n",
      "End Date:  December 17th, 2027\n"
     ]
    }
   ],
   "source": [
    "print(\"All dates: \", list(schedule))\n",
    "print(\"Length: \", len(schedule))\n",
    "print(\"The 3rd coupon date: \", schedule[3])  # random access\n",
    "print(\"Start Date: \", schedule.startDate())\n",
    "print(\"End Date: \", schedule.endDate())"
   ]
  },
  {
   "attachments": {},
   "cell_type": "markdown",
   "metadata": {},
   "source": [
    "## 3. Discount Curve / Yield Curve Term Structure\n",
    "### Constructing a Flat Yield Curve"
   ]
  },
  {
   "cell_type": "code",
   "execution_count": 31,
   "metadata": {
    "ExecuteTime": {
     "end_time": "2020-09-08T22:40:10.752550Z",
     "start_time": "2020-09-08T22:40:10.748534Z"
    }
   },
   "outputs": [],
   "source": [
    "calc_date = ql.Date(14, 4, 2023)\n",
    "ql.Settings.instance().evaluationDate = calc_date\n",
    "\n",
    "# using 5% flat interest rate for testing\n",
    "flat_rate = ql.SimpleQuote(0.05)\n",
    "rate_handle = ql.QuoteHandle(flat_rate)\n",
    "day_count = ql.Actual360()\n",
    "calendar = ql.UnitedStates(ql.UnitedStates.GovernmentBond)\n",
    "continuous_comp = ql.Continuous # continously compounded rate of 5%\n",
    "flat_yield_curve = ql.FlatForward(calc_date, rate_handle, day_count, continuous_comp)\n",
    "flat_yield_curve_handle = ql.YieldTermStructureHandle(flat_yield_curve)"
   ]
  },
  {
   "cell_type": "markdown",
   "metadata": {},
   "source": [
    "### Inspecting the discount curve"
   ]
  },
  {
   "cell_type": "code",
   "execution_count": 32,
   "metadata": {
    "ExecuteTime": {
     "end_time": "2020-09-08T22:40:10.770911Z",
     "start_time": "2020-09-08T22:40:10.754832Z"
    },
    "tags": []
   },
   "outputs": [
    {
     "name": "stdout",
     "output_type": "stream",
     "text": [
      "Reference Date = April 14th, 2023\n",
      "Test Date = December 31st, 2023\n",
      "Year Fraction between Reference Date and Test Date :  0.725\n",
      "Discount Factor for Test Date December 31st, 2023 :  0.9643991635522495\n",
      "Manual DF calculation for Test Date December 31st, 2023 :  0.9643991635522495\n",
      "Difference in Discount Factor: 0.0\n"
     ]
    }
   ],
   "source": [
    "ref_date = flat_yield_curve.referenceDate()\n",
    "test_date = ql.Date(31, 12, 2023)\n",
    "\n",
    "# calc year fraction between ref_date and test_date\n",
    "yearFrac = flat_yield_curve.dayCounter().yearFraction(ref_date, test_date)\n",
    "\n",
    "print(\"Reference Date =\", ref_date)\n",
    "print(\"Test Date =\", test_date)\n",
    "print(\"Year Fraction between Reference Date and Test Date : \", yearFrac)\n",
    "print(\"Discount Factor for Test Date\", test_date, \": \", flat_yield_curve.discount(test_date))\n",
    "print(\"Manual DF calculation for Test Date\", test_date, \": \", np.exp(-flat_rate.value() * yearFrac))\n",
    "print(\"Difference in Discount Factor:\", flat_yield_curve.discount(test_date) - np.exp(-flat_rate.value() * yearFrac))\n",
    "\n"
   ]
  },
  {
   "attachments": {},
   "cell_type": "markdown",
   "metadata": {},
   "source": [
    "## 4. Fixed Rate Bonds\n",
    "### Constructing a bond object"
   ]
  },
  {
   "cell_type": "code",
   "execution_count": 33,
   "metadata": {
    "ExecuteTime": {
     "end_time": "2020-09-08T22:40:10.778286Z",
     "start_time": "2020-09-08T22:40:10.773359Z"
    }
   },
   "outputs": [],
   "source": [
    "coupon_rate = 0.04\n",
    "day_count = ql.Thirty360(ql.Thirty360.USA)\n",
    "coupons = [coupon_rate]\n",
    "\n",
    "# Construct the FixedRateBond\n",
    "settlement_days = 1\n",
    "face_value = 100\n",
    "fixed_rate_bond = ql.FixedRateBond(\n",
    "    settlement_days,\n",
    "    face_value,\n",
    "    schedule,\n",
    "    coupons,\n",
    "    day_count)"
   ]
  },
  {
   "attachments": {},
   "cell_type": "markdown",
   "metadata": {},
   "source": [
    "### Investigate Bond Cashflows"
   ]
  },
  {
   "cell_type": "code",
   "execution_count": 34,
   "metadata": {
    "ExecuteTime": {
     "end_time": "2020-09-08T22:40:10.792630Z",
     "start_time": "2020-09-08T22:40:10.780398Z"
    },
    "tags": []
   },
   "outputs": [
    {
     "name": "stdout",
     "output_type": "stream",
     "text": [
      "           CashFlowDate  CashFlowAmount\n",
      "0       June 20th, 2023             2.0\n",
      "1   December 18th, 2023             2.0\n",
      "2       June 17th, 2024             2.0\n",
      "3   December 17th, 2024             2.0\n",
      "4       June 17th, 2025             2.0\n",
      "5   December 17th, 2025             2.0\n",
      "6       June 17th, 2026             2.0\n",
      "7   December 17th, 2026             2.0\n",
      "8       June 17th, 2027             2.0\n",
      "9   December 17th, 2027             2.0\n",
      "10  December 17th, 2027           100.0\n"
     ]
    }
   ],
   "source": [
    "x = [(cf.date(), cf.amount()) for cf in fixed_rate_bond.cashflows()]\n",
    "cf_date, cf_amount = zip(*x)\n",
    "cf_frame = pd.DataFrame(data={'CashFlowDate': cf_date, 'CashFlowAmount': cf_amount})\n",
    "print(cf_frame)"
   ]
  },
  {
   "attachments": {},
   "cell_type": "markdown",
   "metadata": {},
   "source": [
    "## 5. Present Value Calculation (no credit risk)\n",
    "### Direct function call using risk-free bond pricing engine"
   ]
  },
  {
   "cell_type": "code",
   "execution_count": 35,
   "metadata": {
    "ExecuteTime": {
     "end_time": "2020-09-08T22:40:10.802696Z",
     "start_time": "2020-09-08T22:40:10.795608Z"
    }
   },
   "outputs": [
    {
     "data": {
      "text/plain": [
       "96.61101874409182"
      ]
     },
     "execution_count": 35,
     "metadata": {},
     "output_type": "execute_result"
    }
   ],
   "source": [
    "bond_engine = ql.DiscountingBondEngine(flat_yield_curve_handle)\n",
    "fixed_rate_bond.setPricingEngine(bond_engine)\n",
    "pv_engine = fixed_rate_bond.NPV()\n",
    "pv_engine"
   ]
  },
  {
   "attachments": {},
   "cell_type": "markdown",
   "metadata": {},
   "source": [
    "### Manual Calculation to verify PV"
   ]
  },
  {
   "cell_type": "code",
   "execution_count": 36,
   "metadata": {
    "ExecuteTime": {
     "end_time": "2020-09-08T22:40:10.829120Z",
     "start_time": "2020-09-08T22:40:10.804649Z"
    },
    "tags": []
   },
   "outputs": [
    {
     "data": {
      "text/html": [
       "<div>\n",
       "<style scoped>\n",
       "    .dataframe tbody tr th:only-of-type {\n",
       "        vertical-align: middle;\n",
       "    }\n",
       "\n",
       "    .dataframe tbody tr th {\n",
       "        vertical-align: top;\n",
       "    }\n",
       "\n",
       "    .dataframe thead th {\n",
       "        text-align: right;\n",
       "    }\n",
       "</style>\n",
       "<table border=\"1\" class=\"dataframe\">\n",
       "  <thead>\n",
       "    <tr style=\"text-align: right;\">\n",
       "      <th></th>\n",
       "      <th>CashFlowDate</th>\n",
       "      <th>CashFlowAmount</th>\n",
       "      <th>YearFrac</th>\n",
       "      <th>DiscountFactor</th>\n",
       "      <th>NPV</th>\n",
       "    </tr>\n",
       "  </thead>\n",
       "  <tbody>\n",
       "    <tr>\n",
       "      <th>0</th>\n",
       "      <td>June 20th, 2023</td>\n",
       "      <td>2.0</td>\n",
       "      <td>0.186111</td>\n",
       "      <td>0.990738</td>\n",
       "      <td>1.981475</td>\n",
       "    </tr>\n",
       "    <tr>\n",
       "      <th>1</th>\n",
       "      <td>December 18th, 2023</td>\n",
       "      <td>2.0</td>\n",
       "      <td>0.688889</td>\n",
       "      <td>0.966142</td>\n",
       "      <td>1.932284</td>\n",
       "    </tr>\n",
       "    <tr>\n",
       "      <th>2</th>\n",
       "      <td>June 17th, 2024</td>\n",
       "      <td>2.0</td>\n",
       "      <td>1.194444</td>\n",
       "      <td>0.942026</td>\n",
       "      <td>1.884052</td>\n",
       "    </tr>\n",
       "    <tr>\n",
       "      <th>3</th>\n",
       "      <td>December 17th, 2024</td>\n",
       "      <td>2.0</td>\n",
       "      <td>1.702778</td>\n",
       "      <td>0.918385</td>\n",
       "      <td>1.836769</td>\n",
       "    </tr>\n",
       "    <tr>\n",
       "      <th>4</th>\n",
       "      <td>June 17th, 2025</td>\n",
       "      <td>2.0</td>\n",
       "      <td>2.208333</td>\n",
       "      <td>0.895461</td>\n",
       "      <td>1.790922</td>\n",
       "    </tr>\n",
       "    <tr>\n",
       "      <th>5</th>\n",
       "      <td>December 17th, 2025</td>\n",
       "      <td>2.0</td>\n",
       "      <td>2.716667</td>\n",
       "      <td>0.872988</td>\n",
       "      <td>1.745976</td>\n",
       "    </tr>\n",
       "    <tr>\n",
       "      <th>6</th>\n",
       "      <td>June 17th, 2026</td>\n",
       "      <td>2.0</td>\n",
       "      <td>3.222222</td>\n",
       "      <td>0.851197</td>\n",
       "      <td>1.702395</td>\n",
       "    </tr>\n",
       "    <tr>\n",
       "      <th>7</th>\n",
       "      <td>December 17th, 2026</td>\n",
       "      <td>2.0</td>\n",
       "      <td>3.730556</td>\n",
       "      <td>0.829836</td>\n",
       "      <td>1.659671</td>\n",
       "    </tr>\n",
       "    <tr>\n",
       "      <th>8</th>\n",
       "      <td>June 17th, 2027</td>\n",
       "      <td>2.0</td>\n",
       "      <td>4.236111</td>\n",
       "      <td>0.809122</td>\n",
       "      <td>1.618244</td>\n",
       "    </tr>\n",
       "    <tr>\n",
       "      <th>9</th>\n",
       "      <td>December 17th, 2027</td>\n",
       "      <td>2.0</td>\n",
       "      <td>4.744444</td>\n",
       "      <td>0.788816</td>\n",
       "      <td>1.577632</td>\n",
       "    </tr>\n",
       "    <tr>\n",
       "      <th>10</th>\n",
       "      <td>December 17th, 2027</td>\n",
       "      <td>100.0</td>\n",
       "      <td>4.744444</td>\n",
       "      <td>0.788816</td>\n",
       "      <td>78.881598</td>\n",
       "    </tr>\n",
       "  </tbody>\n",
       "</table>\n",
       "</div>"
      ],
      "text/plain": [
       "           CashFlowDate  CashFlowAmount  YearFrac  DiscountFactor        NPV\n",
       "0       June 20th, 2023             2.0  0.186111        0.990738   1.981475\n",
       "1   December 18th, 2023             2.0  0.688889        0.966142   1.932284\n",
       "2       June 17th, 2024             2.0  1.194444        0.942026   1.884052\n",
       "3   December 17th, 2024             2.0  1.702778        0.918385   1.836769\n",
       "4       June 17th, 2025             2.0  2.208333        0.895461   1.790922\n",
       "5   December 17th, 2025             2.0  2.716667        0.872988   1.745976\n",
       "6       June 17th, 2026             2.0  3.222222        0.851197   1.702395\n",
       "7   December 17th, 2026             2.0  3.730556        0.829836   1.659671\n",
       "8       June 17th, 2027             2.0  4.236111        0.809122   1.618244\n",
       "9   December 17th, 2027             2.0  4.744444        0.788816   1.577632\n",
       "10  December 17th, 2027           100.0  4.744444        0.788816  78.881598"
      ]
     },
     "execution_count": 36,
     "metadata": {},
     "output_type": "execute_result"
    }
   ],
   "source": [
    "calc_frame = cf_frame\n",
    "discount_yearfrac = np.zeros((len(calc_frame,)))\n",
    "discount_factor = np.zeros((len(calc_frame,)))\n",
    "\n",
    "i = 0\n",
    "for cf_date in calc_frame['CashFlowDate']:\n",
    "    discount_yearfrac[i] = flat_yield_curve.dayCounter().yearFraction(flat_yield_curve.referenceDate(), cf_date)\n",
    "    discount_factor[i] = flat_yield_curve.discount(cf_date)\n",
    "    i += 1\n",
    "\n",
    "calc_frame['YearFrac'] = discount_yearfrac\n",
    "calc_frame['DiscountFactor'] = discount_factor\n",
    "calc_frame['NPV'] = calc_frame['CashFlowAmount'] * calc_frame['DiscountFactor']\n",
    "\n",
    "calc_frame"
   ]
  },
  {
   "cell_type": "code",
   "execution_count": 37,
   "metadata": {
    "ExecuteTime": {
     "end_time": "2020-09-08T22:40:10.836542Z",
     "start_time": "2020-09-08T22:40:10.831179Z"
    },
    "tags": []
   },
   "outputs": [
    {
     "name": "stdout",
     "output_type": "stream",
     "text": [
      "NPV_Engine =  96.61101874409182\n",
      "NPV_Manual =  96.61101874409182\n",
      "NPV diff =  0.0\n"
     ]
    }
   ],
   "source": [
    "pv_manual = calc_frame['NPV'].sum()\n",
    "print('NPV_Engine = ', pv_engine)\n",
    "print('NPV_Manual = ', pv_manual)\n",
    "print('NPV diff = ', pv_manual - pv_engine)"
   ]
  },
  {
   "attachments": {},
   "cell_type": "markdown",
   "metadata": {},
   "source": [
    "### Bond Clean vs Dirty Prices"
   ]
  },
  {
   "cell_type": "code",
   "execution_count": 38,
   "metadata": {},
   "outputs": [
    {
     "name": "stdout",
     "output_type": "stream",
     "text": [
      "Bond Notional =  100.0\n",
      "Bond Dirty Price =  96.65128172277326\n",
      "Bond Clean Price =  95.31794838943992\n",
      "Bond Accrued =  1.333333333333342\n"
     ]
    }
   ],
   "source": [
    "print('Bond Notional = ', fixed_rate_bond.notional())\n",
    "print('Bond Dirty Price = ', fixed_rate_bond.dirtyPrice())\n",
    "print('Bond Clean Price = ', fixed_rate_bond.cleanPrice())\n",
    "print('Bond Accrued = ', fixed_rate_bond.accruedAmount())\n"
   ]
  },
  {
   "attachments": {},
   "cell_type": "markdown",
   "metadata": {},
   "source": [
    "## 6. Market Data Scenarios\n",
    "### Parallel Shift in Interest Rates Curve (can be used to compute IR01/DV01 and convexity)"
   ]
  },
  {
   "cell_type": "code",
   "execution_count": 39,
   "metadata": {
    "ExecuteTime": {
     "end_time": "2020-09-08T22:40:10.940966Z",
     "start_time": "2020-09-08T22:39:56.714Z"
    },
    "tags": []
   },
   "outputs": [
    {
     "name": "stdout",
     "output_type": "stream",
     "text": [
      "PV for spread = 0:  96.61101874409182\n",
      "PV for spread = +10bps:  96.19593053866531\n",
      "PV for spread = -10bps:  97.028018501281\n"
     ]
    }
   ],
   "source": [
    "# start with interest_rate_bump = 0\n",
    "interest_rate_bump = ql.SimpleQuote(0.0)\n",
    "flat_yield_curve_bumped = ql.ZeroSpreadedTermStructure(flat_yield_curve_handle, ql.QuoteHandle(interest_rate_bump))\n",
    "\n",
    "bond_engine = ql.DiscountingBondEngine(ql.YieldTermStructureHandle(flat_yield_curve_bumped))\n",
    "fixed_rate_bond.setPricingEngine(bond_engine)\n",
    "\n",
    "# Original price (zero interest rate bump)\n",
    "print(\"PV for spread = 0: \", fixed_rate_bond.NPV())\n",
    "\n",
    "# New price for +10bps interest rate  bump\n",
    "interest_rate_bump.setValue(0.0010)\n",
    "print(\"PV for spread = +10bps: \", fixed_rate_bond.NPV())\n",
    "\n",
    "# New price for -10bps interest rate  bump\n",
    "interest_rate_bump.setValue(-0.0010)\n",
    "print(\"PV for spread = -10bps: \", fixed_rate_bond.NPV())"
   ]
  },
  {
   "attachments": {},
   "cell_type": "markdown",
   "metadata": {},
   "source": [
    "## 7. Yield to Price conversions\n"
   ]
  },
  {
   "cell_type": "code",
   "execution_count": 40,
   "metadata": {},
   "outputs": [
    {
     "name": "stdout",
     "output_type": "stream",
     "text": [
      "Bond PV for 5.0 pct yield: 97.028018501281\n",
      "Bond PV for 6.0 pct yield: 92.94298085737401\n"
     ]
    }
   ],
   "source": [
    "# Use original interest rate yield of 5%\n",
    "# flat_rate.setValue(0.05)\n",
    "print('Bond PV for', flat_rate.value()*100, 'pct yield:', fixed_rate_bond.NPV())\n",
    "\n",
    "\n",
    "# Change interest rate yield to 6% and recompute bond PV\n",
    "flat_rate.setValue(0.06)\n",
    "print('Bond PV for', flat_rate.value()*100, 'pct yield:', fixed_rate_bond.NPV())\n",
    "\n",
    "# Set interest rate yield back to 5%\n",
    "flat_rate.setValue(0.05)"
   ]
  },
  {
   "attachments": {},
   "cell_type": "markdown",
   "metadata": {},
   "source": [
    "## 8. Price to Yield conversions\n"
   ]
  },
  {
   "cell_type": "code",
   "execution_count": 42,
   "metadata": {},
   "outputs": [
    {
     "name": "stdout",
     "output_type": "stream",
     "text": [
      "day_counter = 30/360 (US) day counter\n",
      "coupon_freq = 2\n",
      "calc_date = April 14th, 2023\n",
      "settle_date = April 17th, 2023\n",
      "implied_yield = 5.219382286071778\n"
     ]
    }
   ],
   "source": [
    "# bond_market_price = pv_engine\n",
    "# bond_market_price = fixed_rate_bond.cleanPrice()\n",
    "bond_market_price = 95.00\n",
    "\n",
    "compounding = ql.Compounded\n",
    "\n",
    "settle_date = fixed_rate_bond.settlementDate(calc_date)\n",
    "day_counter = fixed_rate_bond.dayCounter()\n",
    "\n",
    "print('day_counter =', day_counter)\n",
    "print('coupon_freq =', coupon_freq)\n",
    "print('calc_date =', calc_date)\n",
    "print('settle_date =', settle_date)\n",
    "\n",
    "\n",
    "implied_yield = fixed_rate_bond.bondYield(bond_market_price, day_counter, compounding, coupon_freq, settle_date) * 100\n",
    "print('implied_yield =', implied_yield)\n"
   ]
  }
 ],
 "metadata": {
  "jupytext": {
   "formats": "ipynb,py:light"
  },
  "kernelspec": {
   "display_name": "Python 3",
   "language": "python",
   "name": "python3"
  },
  "language_info": {
   "codemirror_mode": {
    "name": "ipython",
    "version": 3
   },
   "file_extension": ".py",
   "mimetype": "text/x-python",
   "name": "python",
   "nbconvert_exporter": "python",
   "pygments_lexer": "ipython3",
   "version": "3.8.2"
  },
  "toc": {
   "base_numbering": 1,
   "nav_menu": {},
   "number_sections": true,
   "sideBar": true,
   "skip_h1_title": false,
   "title_cell": "Table of Contents",
   "title_sidebar": "Contents",
   "toc_cell": false,
   "toc_position": {},
   "toc_section_display": true,
   "toc_window_display": true
  }
 },
 "nbformat": 4,
 "nbformat_minor": 2
}
